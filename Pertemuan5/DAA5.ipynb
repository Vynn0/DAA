{
  "nbformat": 4,
  "nbformat_minor": 0,
  "metadata": {
    "colab": {
      "provenance": [],
      "authorship_tag": "ABX9TyMu9zSA9T6iuq5k1Nfnc3ge",
      "include_colab_link": true
    },
    "kernelspec": {
      "name": "python3",
      "display_name": "Python 3"
    },
    "language_info": {
      "name": "python"
    }
  },
  "cells": [
    {
      "cell_type": "markdown",
      "metadata": {
        "id": "view-in-github",
        "colab_type": "text"
      },
      "source": [
        "<a href=\"https://colab.research.google.com/github/Vynn0/DAA/blob/main/DAA5.ipynb\" target=\"_parent\"><img src=\"https://colab.research.google.com/assets/colab-badge.svg\" alt=\"Open In Colab\"/></a>"
      ]
    },
    {
      "cell_type": "markdown",
      "source": [
        "## Divide and Conquer"
      ],
      "metadata": {
        "id": "p8Y7VXN4XXTR"
      }
    },
    {
      "cell_type": "code",
      "execution_count": null,
      "metadata": {
        "colab": {
          "base_uri": "https://localhost:8080/"
        },
        "id": "GpUS4JPfPQE-",
        "outputId": "9153fcb5-dd11-47a9-834c-615d0050a84a"
      },
      "outputs": [
        {
          "output_type": "stream",
          "name": "stdout",
          "text": [
            "The maximum number is:  35\n"
          ]
        }
      ],
      "source": [
        "def divideAndConquer_Max(arr, ind, len): # First, it takes three parameters\n",
        "  maximum = -1\n",
        "  # Base if statement\n",
        "  if (ind >= len - 2): # First, it checks if the index is bigger or equal to the length - 2\n",
        "    if (arr[ind] > arr[ind + 1]): # It also checks if the array of the index, is bigger than the next to it\n",
        "      return arr[ind]\n",
        "    else:\n",
        "      return arr[ind+1]\n",
        "\n",
        "  maximum = divideAndConquer_Max(arr, ind + 1, len) # This recursively calls until the base if statement is met, so this will run continously\n",
        "\n",
        "  if (arr[ind] > maximum): # Once that done, it will check if the current array, is bigger than the recursived maximum\n",
        "    return arr[ind] # If it's bigger, return arr\n",
        "  else:\n",
        "    return maximum # If it's not, return the maximum\n",
        "\n",
        "if __name__ == '__main__':\n",
        "  minimum, maximum = 0, -1;\n",
        "\n",
        "  arr = [4, 12, 23, 9, 21, 1, 35, 2, 24]\n",
        "\n",
        "  maximum = divideAndConquer_Max(arr, 0, 9)\n",
        "\n",
        "  print(\"The maximum number is: \", maximum)"
      ]
    },
    {
      "cell_type": "code",
      "source": [
        "def divideAndConquer_Min(arr, ind, len):\n",
        "  minimum = 0\n",
        "\n",
        "  if (ind >= len -2):\n",
        "    if (arr[ind] < arr[ind + 1]):\n",
        "      return arr[ind]\n",
        "    else:\n",
        "      return arr[ind + 1]\n",
        "\n",
        "  minimum = divideAndConquer_Min(arr, ind + 1, len)\n",
        "\n",
        "  if (arr[ind] < minimum):\n",
        "    return arr[ind]\n",
        "  else:\n",
        "    return minimum\n",
        "\n",
        "if __name__ == '__main__':\n",
        "  minimum, maximum = 0, -1;\n",
        "\n",
        "  arr = [4, 12, 23, 9, 21, 1, 35, 2, 24]\n",
        "\n",
        "  minimum = divideAndConquer_Min(arr, 0, 9)\n",
        "\n",
        "  print(\"The minimum number is: \", minimum)"
      ],
      "metadata": {
        "colab": {
          "base_uri": "https://localhost:8080/"
        },
        "id": "8YEX1bXrP1iP",
        "outputId": "1e26a548-6273-4396-dadf-63e58494f552"
      },
      "execution_count": null,
      "outputs": [
        {
          "output_type": "stream",
          "name": "stdout",
          "text": [
            "The minimum number is:  1\n"
          ]
        }
      ]
    },
    {
      "cell_type": "code",
      "source": [
        "def divideAndConquer_Max(arr, ind, len): # First, it takes three parameters\n",
        "  maximum = -1\n",
        "  # Base if statement\n",
        "  if (ind >= len - 2): # First, it checks if the index is bigger or equal to the length - 2\n",
        "    if (arr[ind] > arr[ind + 1]): # It also checks if the array of the index, is bigger than the next to it\n",
        "      return arr[ind]\n",
        "    else:\n",
        "      return arr[ind+1]\n",
        "\n",
        "  maximum = divideAndConquer_Max(arr, ind + 1, len) # This recursively calls until the base if statement is met, so this will run continously\n",
        "\n",
        "  if (arr[ind] > maximum): # Once that done, it will check if the current array, is bigger than the recursived maximum\n",
        "    return arr[ind]\n",
        "  else:\n",
        "    return maximum\n",
        "\n",
        "def divideAndConquer_Min(arr, ind, len):\n",
        "  minimum = 0\n",
        "\n",
        "  if (ind >= len -2):\n",
        "    if (arr[ind] < arr[ind + 1]):\n",
        "      return arr[ind]\n",
        "    else:\n",
        "      return arr[ind + 1]\n",
        "\n",
        "  minimum = divideAndConquer_Min(arr, ind + 1, len)\n",
        "\n",
        "  if (arr[ind] < minimum):\n",
        "    return arr[ind]\n",
        "  else:\n",
        "    return minimum\n",
        "\n",
        "if __name__ == '__main__':\n",
        "  minimum, maximum = 0, -1;\n",
        "\n",
        "  arr = [4, 12, 23, 9, 21, 1, 35, 2, 24]\n",
        "\n",
        "  maximum = divideAndConquer_Max(arr, 0, 9)\n",
        "  minimum = divideAndConquer_Min(arr, 0, 9)\n",
        "\n",
        "  print(\"The maximum number is: \", maximum)\n",
        "  print(\"The minimum number is: \", minimum)"
      ],
      "metadata": {
        "colab": {
          "base_uri": "https://localhost:8080/"
        },
        "id": "UlaI1iDwQKjn",
        "outputId": "b99dc017-8a2a-4cd6-e3bd-c9c549a31628"
      },
      "execution_count": null,
      "outputs": [
        {
          "output_type": "stream",
          "name": "stdout",
          "text": [
            "The maximum number is:  35\n",
            "The minimum number is:  1\n"
          ]
        }
      ]
    },
    {
      "cell_type": "markdown",
      "source": [
        "## Merge-Sort"
      ],
      "metadata": {
        "id": "tH29oXuPXayu"
      }
    },
    {
      "cell_type": "code",
      "source": [
        "def mergeSort(array):\n",
        "  if len(array) > 1:\n",
        "\n",
        "    r = len(array)//2\n",
        "    L = array[:r]\n",
        "    M = array[r:]\n",
        "\n",
        "    mergeSort(L)\n",
        "    mergeSort(M)\n",
        "\n",
        "    i = j = k = 0\n",
        "\n",
        "    while i < len(L) and j < len(M):\n",
        "      if L[i] < M[j]:\n",
        "        array[k] = L[i]\n",
        "        i += 1\n",
        "      else:\n",
        "        array[k] = M[j]\n",
        "        j += 1\n",
        "      k += 1\n",
        "\n",
        "    while i < len(L):\n",
        "      array[k] = L[i]\n",
        "      i += 1\n",
        "      k += 1\n",
        "\n",
        "    while j < len(M):\n",
        "      array[k] = M[j]\n",
        "      j += 1\n",
        "      k += 1\n",
        "\n",
        "def printList(array):\n",
        "  for i in range (len(array)):\n",
        "    print(array[i], end=\" \")\n",
        "  print()\n",
        "\n",
        "if __name__ == '__main__':\n",
        "  array = [4,12,23,9,21,1,35,2,24]\n",
        "\n",
        "  mergeSort(array)\n",
        "\n",
        "  print(\"Sorted array is: \")\n",
        "  printList(array)"
      ],
      "metadata": {
        "colab": {
          "base_uri": "https://localhost:8080/"
        },
        "id": "BoRP6hE5Xcm0",
        "outputId": "874741af-6415-4edd-9de7-d6af56b978ac"
      },
      "execution_count": null,
      "outputs": [
        {
          "output_type": "stream",
          "name": "stdout",
          "text": [
            "Sorted array is: \n",
            "1 2 4 9 12 21 23 24 35 \n"
          ]
        }
      ]
    },
    {
      "cell_type": "markdown",
      "source": [
        "## QuickSort Partition"
      ],
      "metadata": {
        "id": "_xbLoLqUgfCI"
      }
    },
    {
      "cell_type": "code",
      "source": [
        "def partition(array, low, high):\n",
        "  pivot = array[high]\n",
        "\n",
        "  i = low - 1\n",
        "\n",
        "  for j in range(low, high):\n",
        "    if array[j] <= pivot:\n",
        "\n",
        "      i = i+1\n",
        "      (array[i], array[j]) = (array[j], array[i])\n",
        "\n",
        "  (array[i+1], array[high]) = (array[high], array[i+1])\n",
        "\n",
        "  return i+1\n",
        "\n",
        "def quickSort(array, low, high):\n",
        "  if low < high:\n",
        "\n",
        "    pi = partition(array, low, high)\n",
        "    quickSort(array, low, pi-1)\n",
        "    quickSort(array, pi + 1, high)\n",
        "\n",
        "data = [4,12,23,9,21,1,35,2,24]\n",
        "print(\"Unsorted Array: \")\n",
        "print(data)\n",
        "\n",
        "size = len(data)\n",
        "\n",
        "quickSort(data, 0, size-1)\n",
        "\n",
        "print(\"\\nSorted Array in Ascending Order: \")\n",
        "print(data)"
      ],
      "metadata": {
        "colab": {
          "base_uri": "https://localhost:8080/"
        },
        "id": "NAdchI_-ghXr",
        "outputId": "3ba27961-abbe-47f4-e0d0-61930f1854d7"
      },
      "execution_count": null,
      "outputs": [
        {
          "output_type": "stream",
          "name": "stdout",
          "text": [
            "Unsorted Array: \n",
            "[4, 12, 23, 9, 21, 1, 35, 2, 24]\n",
            "\n",
            "Sorted Array in Ascending Order: \n",
            "[1, 2, 4, 9, 12, 21, 23, 24, 35]\n"
          ]
        }
      ]
    },
    {
      "cell_type": "markdown",
      "source": [
        "## Count Inversion\n",
        "\n",
        "Menghitung berapa banyak perubahan yang harus dilakukan untuk mengubah array menjadi bentuk yang urut. Ketika array sudah diurutkan, berarti memerlukan 0 inversi.\n"
      ],
      "metadata": {
        "id": "kzUpYWNulx-n"
      }
    },
    {
      "cell_type": "code",
      "source": [
        "def countInversion(arr):\n",
        "  result = 0\n",
        "  for i in range(len(arr)):\n",
        "    for j in range(i+1, len(arr)):\n",
        "      # print(\"arr[i]: \", arr[i], \"arr[j]: \", arr[j], \"i: \", i, \"j: \", j, \"result: \", result)\n",
        "      if arr[i] > arr[j]:\n",
        "        result += 1\n",
        "  return result\n",
        "\n",
        "arr = [21,70,36,14,25]\n",
        "result = countInversion(arr)\n",
        "print(result)"
      ],
      "metadata": {
        "colab": {
          "base_uri": "https://localhost:8080/"
        },
        "id": "GwkzvZsllzfu",
        "outputId": "6233d2c6-68db-43c9-a437-8a737249763d"
      },
      "execution_count": null,
      "outputs": [
        {
          "output_type": "stream",
          "name": "stdout",
          "text": [
            "6\n"
          ]
        }
      ]
    },
    {
      "cell_type": "code",
      "source": [
        "def countInversion(arr): # Using divide and conquer\n",
        "  icount = 0\n",
        "  if len(arr) <= 1:\n",
        "    return icount\n",
        "\n",
        "  mid = len(arr) // 2\n",
        "  left = arr[:mid]\n",
        "  right = arr[mid:]\n",
        "  icount += countInversion(left)\n",
        "  icount += countInversion(right)\n",
        "  i = j = k = 0\n",
        "\n",
        "  while i < len(left) and j < len(right):\n",
        "    if left[i] < right[j]:\n",
        "      arr[k] = left[i]\n",
        "      i += 1\n",
        "\n",
        "    else:\n",
        "      arr[k] = right[j]\n",
        "      j += 1\n",
        "      icount += (mid-i)\n",
        "    k += 1\n",
        "\n",
        "  while i < len(left):\n",
        "    arr[k] = left[i]\n",
        "    i += 1\n",
        "    k += 1\n",
        "\n",
        "  while j < len(right):\n",
        "    arr[k] = right[j]\n",
        "    j += 1\n",
        "    k += 1\n",
        "\n",
        "  return icount\n",
        "\n",
        "arr = [1,20,6,4,5]\n",
        "result = countInversion(arr)\n",
        "print(result)"
      ],
      "metadata": {
        "colab": {
          "base_uri": "https://localhost:8080/"
        },
        "id": "rKIfyAeKoHX5",
        "outputId": "beacfa21-3fc3-4322-f18c-a707f4fbdd9b"
      },
      "execution_count": null,
      "outputs": [
        {
          "output_type": "stream",
          "name": "stdout",
          "text": [
            "5\n"
          ]
        }
      ]
    },
    {
      "cell_type": "markdown",
      "source": [
        "## Maximum Subarray Sum\n",
        "\n",
        "Mencari hasil penjumlahan terbesar dari suatu array yang isinya niali negativf dan positif. Misal suatu array isinya {-2, -5, 6, -2, -3, 1, 5, -6}, maka penjumlahan terbesar disusun dari {6,-2,-3,1,5} = 7"
      ],
      "metadata": {
        "id": "pSg3UDrxqCoF"
      }
    },
    {
      "cell_type": "code",
      "source": [
        "def maxSubSum(arr):\n",
        "  max_so_far = 0\n",
        "  max_ending_here = 0\n",
        "\n",
        "  for i in range(len(arr)):\n",
        "    max_ending_here += arr[i]\n",
        "    if max_ending_here > max_so_far:\n",
        "      max_so_far = max_ending_here\n",
        "\n",
        "    if max_ending_here < 0:\n",
        "      max_ending_here = 0\n",
        "  return max_so_far\n",
        "\n",
        "arr = [-2,-5,6,-2,-3,1,5,-6]\n",
        "result = maxSubSum(arr)\n",
        "print(result)"
      ],
      "metadata": {
        "colab": {
          "base_uri": "https://localhost:8080/"
        },
        "id": "eiXPYWqUqGSi",
        "outputId": "af17ce53-9f2b-4ab1-e7d1-03655feae2a8"
      },
      "execution_count": null,
      "outputs": [
        {
          "output_type": "stream",
          "name": "stdout",
          "text": [
            "7\n"
          ]
        }
      ]
    },
    {
      "cell_type": "code",
      "source": [
        "def maxCrossingSum(arr, low, mid, high):\n",
        "  result = 0; leftSum = float('-infinity')\n",
        "\n",
        "  for i in range(mid,low-1,-1):\n",
        "    result += arr[i]\n",
        "    if result > leftSum:\n",
        "      leftSum = result\n",
        "  result = 0; rightSum = float('-infinity')\n",
        "\n",
        "  for i in range(mid+1, high+1):\n",
        "    result += arr[i]\n",
        "    if result > rightSum:\n",
        "      rightSum = result\n",
        "  return leftSum + rightSum\n",
        "\n",
        "def maxSum(arr,low,high):\n",
        "  if low==high:\n",
        "    return arr[low]\n",
        "  mid = (low+high) // 2\n",
        "  return max(maxSum(arr,low,mid), maxSum(arr,mid+1,high), maxCrossingSum(arr,low,mid,high))\n",
        "\n",
        "arr = [-2,-5,6,-2,-3,1,5,-6]\n",
        "result = maxSum(arr,0,len(arr)-1)\n",
        "print(result)"
      ],
      "metadata": {
        "colab": {
          "base_uri": "https://localhost:8080/"
        },
        "id": "5QfDmw-qqaKo",
        "outputId": "31b6b82b-3ae5-4c99-e452-09b346dcaba2"
      },
      "execution_count": null,
      "outputs": [
        {
          "output_type": "stream",
          "name": "stdout",
          "text": [
            "7\n"
          ]
        }
      ]
    },
    {
      "cell_type": "markdown",
      "source": [
        "## Longest Common Prefix\n",
        "Mencari potongan suku kata (prefix) yang sama dan terpanjang"
      ],
      "metadata": {
        "id": "eYQaOsavsFwa"
      }
    },
    {
      "cell_type": "code",
      "source": [
        "def longestCommonPrefix(a):\n",
        "  size = len(a)\n",
        "\n",
        "  if (size == 0):\n",
        "    return \"\"\n",
        "\n",
        "  if (size == 1):\n",
        "    return a[0]\n",
        "\n",
        "  a.sort()\n",
        "\n",
        "  end = min(len(a[0]), len(a[size-1]))\n",
        "  i = 0\n",
        "  while (i < end and a[0][i] == a[size-1][i]):\n",
        "    i += 1\n",
        "\n",
        "  pre = a[0][0:i]\n",
        "  return pre\n",
        "\n",
        "arr = [\"geeksforgeeks\", \"geeks\", \"geek\", \"geezer\"]\n",
        "result = longestCommonPrefix(arr)\n",
        "print(result)\n",
        "\n",
        "arr = [\"apple\", \"ape\", \"april\"]\n",
        "result = longestCommonPrefix(arr)\n",
        "print(result)"
      ],
      "metadata": {
        "colab": {
          "base_uri": "https://localhost:8080/"
        },
        "id": "MSXdlwxKsH8f",
        "outputId": "eada5407-7756-4279-a09b-d0996ca74a8d"
      },
      "execution_count": null,
      "outputs": [
        {
          "output_type": "stream",
          "name": "stdout",
          "text": [
            "gee\n",
            "ap\n"
          ]
        }
      ]
    },
    {
      "cell_type": "markdown",
      "source": [
        "## Median dua array\n",
        "\n",
        "Mencari nilai tengah dari dua array yang berurutan nilainya, dan ukurannya sama"
      ],
      "metadata": {
        "id": "W8x_Gr1Js8yH"
      }
    },
    {
      "cell_type": "code",
      "source": [
        "def medianOfArray(arr1, arr2, n):\n",
        "  m1 = -1\n",
        "  m2 = -1\n",
        "  count = 0\n",
        "  i = j = 0\n",
        "\n",
        "  while count < n + 1:\n",
        "    count += 1\n",
        "    if i == n:\n",
        "      m1 = m2\n",
        "      m2 = arr2[0]\n",
        "      break\n",
        "    if j == n:\n",
        "      m1 = m2\n",
        "      m2 = arr1[0]\n",
        "    if arr1[i] < arr2[j]:\n",
        "      m1 = m2\n",
        "      m2 = arr1[i]\n",
        "      i += 1\n",
        "    else:\n",
        "      m1 = m2\n",
        "      m2 = arr2[j]\n",
        "      j += 1\n",
        "  return (m1 + m2) // 2\n",
        "\n",
        "arr1 = [1,12,15,26,38]\n",
        "arr2 = [2,13,17,30,45]\n",
        "\n",
        "print(medianOfArray(arr1, arr2, len(arr1)))"
      ],
      "metadata": {
        "colab": {
          "base_uri": "https://localhost:8080/"
        },
        "id": "Lth4mGNAtDDf",
        "outputId": "d73406f3-e6ac-4e23-ac33-c9c1eb08438f"
      },
      "execution_count": null,
      "outputs": [
        {
          "output_type": "stream",
          "name": "stdout",
          "text": [
            "16\n"
          ]
        }
      ]
    },
    {
      "cell_type": "code",
      "source": [
        "def Solution(arr):\n",
        "  n = len(arr)\n",
        "  if n % 2 == 0:\n",
        "    z = n // 2\n",
        "    e = arr[z]\n",
        "    q = arr[z - 1]\n",
        "    ans = (e+q) / 2\n",
        "    return ans\n",
        "  else:\n",
        "    z = n // 2\n",
        "    ans = arr[z]\n",
        "    return ans\n",
        "\n",
        "arr1 = [-5,3,6,12,15]\n",
        "arr2 = [-12,-10,-6,-3,4,10]\n",
        "\n",
        "arr3 = arr1 + arr2\n",
        "arr3.sort()\n",
        "print(\"Median = \", Solution(arr3))"
      ],
      "metadata": {
        "colab": {
          "base_uri": "https://localhost:8080/"
        },
        "id": "usmtrlnlvUGK",
        "outputId": "dc8a0346-d178-4b47-9b57-b7c391a2f4aa"
      },
      "execution_count": null,
      "outputs": [
        {
          "output_type": "stream",
          "name": "stdout",
          "text": [
            "Median =  3\n"
          ]
        }
      ]
    },
    {
      "cell_type": "markdown",
      "source": [
        "## Floor Sorting\n",
        "\n",
        "Mencari elemen terbesar dari array dan lebih kecil dari angka"
      ],
      "metadata": {
        "id": "WraKiMuLyOS5"
      }
    },
    {
      "cell_type": "code",
      "source": [
        "def floorSorted(arr,low,high,x):\n",
        "  if low > high:\n",
        "    return -1\n",
        "  if arr[low] > x:\n",
        "    return -1\n",
        "  if arr[high] <= x:\n",
        "    return arr[high]\n",
        "  mid = (low+high) // 2\n",
        "\n",
        "  if arr[mid] == x:\n",
        "    return arr[mid]\n",
        "\n",
        "  if mid > 0 and x >= arr[mid-1] and arr[mid] > x:\n",
        "    return arr[mid-1]\n",
        "\n",
        "  if mid<high and x<arr[mid+1] and x >= arr[mid]:\n",
        "    return arr[mid]\n",
        "\n",
        "  if x > arr[mid]:\n",
        "    return floorSorted(arr,mid+1,high,x)\n",
        "  else:\n",
        "    return floorSorted(arr,low,mid-1,x)\n",
        "\n",
        "arr = [1,2,8,19,12,14,19]\n",
        "x = 5\n",
        "print(floorSorted(arr,0,len(arr) - 1, x))"
      ],
      "metadata": {
        "colab": {
          "base_uri": "https://localhost:8080/"
        },
        "id": "yRZi87FpyQaa",
        "outputId": "117f85a5-5d71-4d64-8a4a-b4d071f4fc35"
      },
      "execution_count": null,
      "outputs": [
        {
          "output_type": "stream",
          "name": "stdout",
          "text": [
            "2\n"
          ]
        }
      ]
    },
    {
      "cell_type": "markdown",
      "source": [
        "## Nilai Terdekat\n",
        "\n",
        "Mencari nilai terdekat suatu angka dalam suatu array"
      ],
      "metadata": {
        "id": "BmC1LFfZzSAD"
      }
    },
    {
      "cell_type": "code",
      "source": [
        "def closestNumber(arr,low,high,x):\n",
        "  if low > high:\n",
        "    return -1\n",
        "  if arr[high] <= x:\n",
        "    return arr[high]\n",
        "  if arr[low] >= x:\n",
        "    return arr[low]\n",
        "  mid = (low-high) // 2\n",
        "  if arr[mid] == x:\n",
        "    return arr[mid]\n",
        "  abs_mid = abs(arr[mid] - x)\n",
        "  if mid > 0:\n",
        "    abs_left = abs(arr[mid-1] - x)\n",
        "    if abs_left < abs_mid:\n",
        "      return closestNumber(arr,low,mid-1,x)\n",
        "  if mid < high:\n",
        "    abs_right = abs(arr[mid+1] - x)\n",
        "    if abs_right < abs_mid:\n",
        "      return closestNumber(arr, mid+1,high,x)\n",
        "  return arr[mid]\n",
        "\n",
        "arr = [2,5,6,7,8,8,9]\n",
        "x = 9\n",
        "print(closestNumber(arr,0,len(arr) - 1, x))"
      ],
      "metadata": {
        "colab": {
          "base_uri": "https://localhost:8080/"
        },
        "id": "C4Ds_9f8zVd1",
        "outputId": "dea358c0-214b-4c8c-9573-4f7a1bba4af0"
      },
      "execution_count": null,
      "outputs": [
        {
          "output_type": "stream",
          "name": "stdout",
          "text": [
            "9\n"
          ]
        }
      ]
    },
    {
      "cell_type": "code",
      "source": [
        "def find_closest(lst, k):\n",
        "  lst.sort()\n",
        "  closest_num = lst[0]\n",
        "  for num in lst:\n",
        "    if abs(num - k) < abs(closest_num - k):\n",
        "      closest_num = num\n",
        "    if num > k:\n",
        "      break\n",
        "  return closest_num\n",
        "\n",
        "lst = [3.64, 5.2, 9.42, 9.35, 8.5, 8]\n",
        "k = 9.1\n",
        "print(find_closest(lst,k))\n",
        "\n",
        "lst = [2,5,5,7,8,8,9]\n",
        "k = 6\n",
        "print(find_closest(lst,k))"
      ],
      "metadata": {
        "colab": {
          "base_uri": "https://localhost:8080/"
        },
        "id": "IqXbGBgfz_6i",
        "outputId": "4e39007b-28d6-40c7-cb6e-3d8a59ce7b5e"
      },
      "execution_count": null,
      "outputs": [
        {
          "output_type": "stream",
          "name": "stdout",
          "text": [
            "9.35\n",
            "5\n"
          ]
        }
      ]
    },
    {
      "cell_type": "markdown",
      "source": [
        "## Fixed Point\n",
        "\n",
        "Mencari nilai fixed point, yaitu suatu bilangan dalam array yang nilainya sama dengan urutannya dalam array. Array dimulai dari 0. Jika tidak ada yang sama, hasil akan bernilai -1."
      ],
      "metadata": {
        "id": "gU8lwDaI0edp"
      }
    },
    {
      "cell_type": "markdown",
      "source": [],
      "metadata": {
        "id": "TZ_3c_NXtjB8"
      }
    },
    {
      "cell_type": "code",
      "source": [
        "def fixedPoint(arr,low,high):\n",
        "  if low > high:\n",
        "    return -1\n",
        "  if arr[high] == high:\n",
        "    return arr[high]\n",
        "  if arr[low] == low:\n",
        "    return arr[low]\n",
        "  mid = (low+high) // 2\n",
        "  if arr[mid] == mid:\n",
        "    return arr[mid]\n",
        "  if mid > arr[mid]:\n",
        "    return fixedPoint(arr,mid+1,high)\n",
        "  else:\n",
        "    return fixedPoint(arr,low,mid-1)\n",
        "\n",
        "arr = [9,1,4,5,2]\n",
        "print(fixedPoint(arr,0,len(arr) - 1))"
      ],
      "metadata": {
        "colab": {
          "base_uri": "https://localhost:8080/"
        },
        "id": "pVovg9230nAf",
        "outputId": "afb98def-8bef-4122-aab9-408b97f8ba44"
      },
      "execution_count": null,
      "outputs": [
        {
          "output_type": "stream",
          "name": "stdout",
          "text": [
            "1\n"
          ]
        }
      ]
    }
  ]
}
