{
  "nbformat": 4,
  "nbformat_minor": 0,
  "metadata": {
    "colab": {
      "provenance": [],
      "authorship_tag": "ABX9TyO8z7Ayd/msggKPOvf6OK0D",
      "include_colab_link": true
    },
    "kernelspec": {
      "name": "python3",
      "display_name": "Python 3"
    },
    "language_info": {
      "name": "python"
    }
  },
  "cells": [
    {
      "cell_type": "markdown",
      "metadata": {
        "id": "view-in-github",
        "colab_type": "text"
      },
      "source": [
        "<a href=\"https://colab.research.google.com/github/Vynn0/DAA/blob/main/DAA_7.ipynb\" target=\"_parent\"><img src=\"https://colab.research.google.com/assets/colab-badge.svg\" alt=\"Open In Colab\"/></a>"
      ]
    },
    {
      "cell_type": "markdown",
      "source": [
        "## Perkalian Matriks"
      ],
      "metadata": {
        "id": "TVPhT5e2UQxt"
      }
    },
    {
      "cell_type": "code",
      "execution_count": null,
      "metadata": {
        "colab": {
          "base_uri": "https://localhost:8080/"
        },
        "id": "AI3UTtyiTWbx",
        "outputId": "aea318de-2c76-45cf-ed66-0d47ef119084"
      },
      "outputs": [
        {
          "output_type": "stream",
          "name": "stdout",
          "text": [
            "53 37 \n",
            "16 11 \n"
          ]
        }
      ],
      "source": [
        "mat1 = [\n",
        "    [7, 3],\n",
        "    [2, 1],\n",
        "]\n",
        "\n",
        "mat2 = [\n",
        "    [5, 4],\n",
        "    [6, 3],\n",
        "]\n",
        "\n",
        "mat3 = []\n",
        "\n",
        "for x in range(0, len(mat1)):\n",
        "  row = []\n",
        "  for y in range(0, len(mat1[0])):\n",
        "    total = 0\n",
        "    for z in range(0, len(mat1)):\n",
        "      total = total + (mat1[x][z] * mat2[z][y])\n",
        "    row.append(total)\n",
        "  mat3.append(row)\n",
        "\n",
        "for x in range(0, len(mat3)):\n",
        "  for y in range(0, len(mat3[0])):\n",
        "    print (mat3[x][y], end=' ')\n",
        "  print ()"
      ]
    },
    {
      "cell_type": "markdown",
      "source": [
        "## Faktorial"
      ],
      "metadata": {
        "id": "cY31nRpmZjiy"
      }
    },
    {
      "cell_type": "code",
      "source": [
        "def faktorial(n):\n",
        "  if (n==1):\n",
        "    return n\n",
        "  return faktorial(n-1)*n\n",
        "\n",
        "n = int(input(\"Masukkan nilai n: \"))\n",
        "print(f\"Hasil dari {n}!\", faktorial(n))"
      ],
      "metadata": {
        "colab": {
          "base_uri": "https://localhost:8080/"
        },
        "id": "824AgfUBZlLG",
        "outputId": "138d3238-1cf0-44e4-e50e-7669cb56a7dd"
      },
      "execution_count": null,
      "outputs": [
        {
          "output_type": "stream",
          "name": "stdout",
          "text": [
            "Masukkan nilai n: 10\n",
            "Hasil dari 10! 3628800\n"
          ]
        }
      ]
    },
    {
      "cell_type": "markdown",
      "source": [
        "## Mencari elemen terbesar"
      ],
      "metadata": {
        "id": "Wo4FJeo4aQ-3"
      }
    },
    {
      "cell_type": "code",
      "source": [
        "def nilai_maksimal(deret_bilangan):\n",
        "  nilai_terbesar = deret_bilangan[0]\n",
        "\n",
        "  for nilai in deret_bilangan:\n",
        "    if nilai > nilai_terbesar:\n",
        "      nilai_terbesar = nilai\n",
        "\n",
        "  return nilai_terbesar\n",
        "\n",
        "a = [3, 20, 100, -35, 50]\n",
        "print(a)\n",
        "print(\"Nilai terbesar: \", nilai_maksimal(a))"
      ],
      "metadata": {
        "colab": {
          "base_uri": "https://localhost:8080/"
        },
        "id": "zYRL8HhbaSWD",
        "outputId": "7972f67d-e5c3-4343-b308-1471564318c4"
      },
      "execution_count": null,
      "outputs": [
        {
          "output_type": "stream",
          "name": "stdout",
          "text": [
            "[3, 20, 100, -35, 50]\n",
            "Nilai terbesar:  100\n"
          ]
        }
      ]
    },
    {
      "cell_type": "markdown",
      "source": [
        "## Sequential Search"
      ],
      "metadata": {
        "id": "Rlf7d8pCakEr"
      }
    },
    {
      "cell_type": "code",
      "source": [
        "def sequentialSearch(alist, item):\n",
        "  pos = 0\n",
        "  found = False\n",
        "\n",
        "  while pos < len(alist) and not found:\n",
        "    if alist[pos] == item:\n",
        "      found = True\n",
        "    else:\n",
        "      pos = pos+1\n",
        "  return found\n",
        "\n",
        "testlist = [1, 2, 32, 8, 17, 19, 42, 13, 0]\n",
        "print(sequentialSearch(testlist, 3))\n",
        "print(sequentialSearch(testlist, 2))"
      ],
      "metadata": {
        "colab": {
          "base_uri": "https://localhost:8080/"
        },
        "id": "ZNkn93ioalO7",
        "outputId": "f923c462-dc41-4e9c-efd1-d80a922b7667"
      },
      "execution_count": null,
      "outputs": [
        {
          "output_type": "stream",
          "name": "stdout",
          "text": [
            "True\n",
            "True\n"
          ]
        }
      ]
    },
    {
      "cell_type": "markdown",
      "source": [
        "## Bubble Sort"
      ],
      "metadata": {
        "id": "7rsceWZ8a8U9"
      }
    },
    {
      "cell_type": "code",
      "source": [
        "def bubbleSort(alist):\n",
        "  for passnum in range(len(alist)-1,0,-1):\n",
        "    for i in range(passnum):\n",
        "      if alist[i] > alist[i+1]:\n",
        "        temp = alist[i]\n",
        "        alist[i] = alist[i+1]\n",
        "        alist[i+1] = temp\n",
        "\n",
        "alist = [54, 26, 93, 17, 77, 31, 44, 55, 20]\n",
        "bubbleSort(alist)\n",
        "print(alist)"
      ],
      "metadata": {
        "colab": {
          "base_uri": "https://localhost:8080/"
        },
        "id": "0a6jqO7Na7bA",
        "outputId": "f65efba9-d53d-4551-97d4-bea6acbefcac"
      },
      "execution_count": null,
      "outputs": [
        {
          "output_type": "stream",
          "name": "stdout",
          "text": [
            "[17, 20, 26, 31, 44, 54, 55, 77, 93]\n"
          ]
        }
      ]
    },
    {
      "cell_type": "markdown",
      "source": [
        "## Uji Keprimaan"
      ],
      "metadata": {
        "id": "krUZk0CHbOUf"
      }
    },
    {
      "cell_type": "code",
      "source": [
        "#Uji Keprimaan\n",
        "x = int(input('Input satu angka bulat: '))\n",
        "\n",
        "angka_prima = True\n",
        "if((x == 0) or (x == 1)):\n",
        "  angka_prima = False\n",
        "else:\n",
        "  for i in range(2, (x // 2)):\n",
        "    if ((x % 1) == 0):\n",
        "      angka_prima = False\n",
        "      break\n",
        "\n",
        "if(angka_prima):\n",
        "  print(x, 'adalah angka prima')\n",
        "else:\n",
        "  print(x, 'bukan angka prima')\n"
      ],
      "metadata": {
        "colab": {
          "base_uri": "https://localhost:8080/"
        },
        "id": "e3YbojS4bP1W",
        "outputId": "471906cd-090a-400e-d54d-1f8ebf526ae5"
      },
      "execution_count": null,
      "outputs": [
        {
          "output_type": "stream",
          "name": "stdout",
          "text": [
            "Input satu angka bulat: 9\n",
            "9 bukan angka prima\n"
          ]
        }
      ]
    },
    {
      "cell_type": "markdown",
      "source": [
        "## Polynomial"
      ],
      "metadata": {
        "id": "uIdvedJmcJ7l"
      }
    },
    {
      "cell_type": "code",
      "source": [
        "def polynomial_py(a, x):\n",
        "  result = 0\n",
        "  for n, a_n in enumerate(a):\n",
        "    x_power_n = 1\n",
        "    for i in range(n):\n",
        "      x_power_n *= x\n",
        "    result += a_n * x_power_n\n",
        "  return result\n",
        "\n",
        "a = [1,2,0,3]\n",
        "x = 1.5\n",
        "print(polynomial_py(a, x))"
      ],
      "metadata": {
        "colab": {
          "base_uri": "https://localhost:8080/"
        },
        "id": "UUn3rxUncLC6",
        "outputId": "1614f6a0-4d6e-4cc9-db3c-0b5cca96b855"
      },
      "execution_count": null,
      "outputs": [
        {
          "output_type": "stream",
          "name": "stdout",
          "text": [
            "14.125\n"
          ]
        }
      ]
    },
    {
      "cell_type": "markdown",
      "source": [
        "## Matching Substring in String"
      ],
      "metadata": {
        "id": "d6wtlWe9c-jS"
      }
    },
    {
      "cell_type": "code",
      "source": [
        "# Get matching substrings in string\n",
        "# Initializing string\n",
        "test_str = \"GfG is good website\";\n",
        "\n",
        "# Initializing potential substrings\n",
        "test_list = [\"GfG\", \"site\", \"CS\", \"Geeks\", \"Tutorial\"]\n",
        "\n",
        "# Printing original string\n",
        "print(\"The original string is : \" + test_str)\n",
        "\n",
        "# Printing potential strings list\n",
        "print(\"The original list is : \" + str(test_list))\n",
        "\n",
        "# Using list comprehension\n",
        "# Get matching subtrings in string\n",
        "res = [sub for sub in test_list if sub in test_str]\n",
        "\n",
        "# Printing result\n",
        "print(\"The list of found subtrings : \" + str(res))"
      ],
      "metadata": {
        "colab": {
          "base_uri": "https://localhost:8080/"
        },
        "id": "nUYhdmzDdAYY",
        "outputId": "88cad7c6-4b0f-4e65-eb58-e3f2efaa2a70"
      },
      "execution_count": null,
      "outputs": [
        {
          "output_type": "stream",
          "name": "stdout",
          "text": [
            "The original string is : GfG is good website\n",
            "The original list is : ['GfG', 'site', 'CS', 'Geeks', 'Tutorial']\n",
            "The list of found subtrings : ['GfG', 'site']\n"
          ]
        }
      ]
    },
    {
      "cell_type": "markdown",
      "source": [
        "## Mencari pasangan titik jarak terdekat"
      ],
      "metadata": {
        "id": "1llTiwJUdocN"
      }
    },
    {
      "cell_type": "code",
      "source": [
        "from math import sqrt\n",
        "from random import randint\n",
        "\n",
        "titik = []\n",
        "n = int(input('Masukkan jumlah titik yang ingin Anda cari jaraknya: '))\n",
        "for i in range (0,n):\n",
        "  titik.append([randint(0,100), randint(0,100)])\n",
        "print(\"Titik:\\n\", titik)\n",
        "\n",
        "def hitungjarak(lis):\n",
        "  lisjarak = []\n",
        "  for i in range (0, len(lis)-1):\n",
        "    for j in range(i+1, len(lis)):\n",
        "      jarak = sqrt((lis[i][0] - lis[j][0])**2 + (lis[i][1] - lis[j][1])**2)\n",
        "      lisjarak.append(jarak)\n",
        "      print('Titik: ', lis[i], 'Titik: ', lis[j], ': ', jarak)\n",
        "  return min(lisjarak)\n",
        "print('Jarak terdekat:\\n', hitungjarak(titik))"
      ],
      "metadata": {
        "colab": {
          "base_uri": "https://localhost:8080/"
        },
        "id": "sWYEuHXldwRu",
        "outputId": "8c12adc1-4b13-4e32-bc3c-87e671fe261a"
      },
      "execution_count": null,
      "outputs": [
        {
          "output_type": "stream",
          "name": "stdout",
          "text": [
            "Masukkan jumlah titik yang ingin Anda cari jaraknya: 3\n",
            "Titik:\n",
            " [[10, 95], [42, 48], [37, 8]]\n",
            "Titik:  [10, 95] Titik:  [42, 48] :  56.859475903318\n",
            "Titik:  [10, 95] Titik:  [37, 8] :  91.09335870413386\n",
            "Titik:  [42, 48] Titik:  [37, 8] :  40.311288741492746\n",
            "Jarak terdekat:\n",
            " 40.311288741492746\n"
          ]
        }
      ]
    },
    {
      "cell_type": "markdown",
      "source": [
        "## Algoritma Brute Force: Linear Search"
      ],
      "metadata": {
        "id": "1OQ2-bFgfqM5"
      }
    },
    {
      "cell_type": "code",
      "source": [
        "# Find Maximum Value in Linear Search\n",
        "\n",
        "def find_maximum(lst):\n",
        "  max = None\n",
        "  for el in lst:\n",
        "    if max == None or el > max:\n",
        "      max = el\n",
        "  return max\n",
        "\n",
        "test_scores = [88, 93, 75, 100, 80, 67, 71, 92, 90, 83]\n",
        "print(find_maximum(test_scores)) # Returns 100"
      ],
      "metadata": {
        "colab": {
          "base_uri": "https://localhost:8080/"
        },
        "id": "rNI1rU4qfsVU",
        "outputId": "9819b888-72ef-41d1-860b-961004780ee4"
      },
      "execution_count": null,
      "outputs": [
        {
          "output_type": "stream",
          "name": "stdout",
          "text": [
            "100\n"
          ]
        }
      ]
    },
    {
      "cell_type": "markdown",
      "source": [
        "## Algoritma Brute Force: Sequential Search"
      ],
      "metadata": {
        "id": "QRk67xyGgCN1"
      }
    },
    {
      "cell_type": "code",
      "source": [
        "def Sequential_Search(dlist, item):\n",
        "  pos = 0\n",
        "  found = False\n",
        "\n",
        "  while pos < len(dlist) and not found:\n",
        "    if dlist[pos] == item:\n",
        "      found = True\n",
        "    else:\n",
        "      pos = pos +1\n",
        "\n",
        "  return found,pos\n",
        "\n",
        "print(Sequential_Search([11,23,58,31,56,77,43,12,65,19], 31))"
      ],
      "metadata": {
        "colab": {
          "base_uri": "https://localhost:8080/"
        },
        "id": "NP-0GBYlgBu0",
        "outputId": "d3fd90e6-56cc-4d9e-fd47-68fd278e6a02"
      },
      "execution_count": null,
      "outputs": [
        {
          "output_type": "stream",
          "name": "stdout",
          "text": [
            "(True, 3)\n"
          ]
        }
      ]
    },
    {
      "cell_type": "markdown",
      "source": [
        "## Algoritma Brute Force: Pangkat"
      ],
      "metadata": {
        "id": "8vGYd9ovgT47"
      }
    },
    {
      "cell_type": "code",
      "source": [
        "bilangan = int(input(\"Masukkan bilangan: \"))\n",
        "pangkat = int(input(\"Masukkan pangkat: \"))\n",
        "\n",
        "def hitung_pangkat(bilangan, pangkat):\n",
        "  if pangkat > 1:\n",
        "    return bilangan * hitung_pangkat(bilangan, pangkat - 1)\n",
        "\n",
        "  return bilangan\n",
        "\n",
        "hasil = hitung_pangkat(bilangan, pangkat)\n",
        "print(f\"Hasil = {hasil}\")"
      ],
      "metadata": {
        "colab": {
          "base_uri": "https://localhost:8080/"
        },
        "id": "F0CsOIEXgYZu",
        "outputId": "0c828943-a7aa-4777-c9d9-93eef2ee5425"
      },
      "execution_count": null,
      "outputs": [
        {
          "output_type": "stream",
          "name": "stdout",
          "text": [
            "Masukkan bilangan: 5\n",
            "Masukkan pangkat: 5\n",
            "Hasil = 3125\n"
          ]
        }
      ]
    },
    {
      "cell_type": "markdown",
      "source": [
        "## Algoritma Brute Force: Faktorial"
      ],
      "metadata": {
        "id": "WClmoiHVgsu0"
      }
    },
    {
      "cell_type": "code",
      "source": [
        "n = int(input(\"Masukkan nilai n: \"))\n",
        "\n",
        "def hitung_faktorial (n):\n",
        "  if n > 2:\n",
        "    return n * hitung_faktorial(n - 1)\n",
        "\n",
        "  return 2\n",
        "\n",
        "faktorial = hitung_faktorial(n)\n",
        "print(f\"{n}! = {faktorial}\")"
      ],
      "metadata": {
        "colab": {
          "base_uri": "https://localhost:8080/"
        },
        "id": "Y43PdUsXgvMY",
        "outputId": "aac2ba92-b933-488a-8f74-a44ad4fdd6a0"
      },
      "execution_count": null,
      "outputs": [
        {
          "output_type": "stream",
          "name": "stdout",
          "text": [
            "Masukkan nilai n: 10\n",
            "10! = 3628800\n"
          ]
        }
      ]
    },
    {
      "cell_type": "markdown",
      "source": [
        "## Algoritma Brute Force: String Matching"
      ],
      "metadata": {
        "id": "HGHk3fZUg7wy"
      }
    },
    {
      "cell_type": "code",
      "source": [
        "def string_match(string, sub_str):\n",
        "  # Brute Force string matching\n",
        "  for i in range(len(string) - len(sub_str) + 1):\n",
        "    index = i # Index point to the 1 Three characters to be compared\n",
        "    for j in range(len(sub_str)):\n",
        "      if string[index] == sub_str[j]:\n",
        "        index += 1\n",
        "      else:\n",
        "        break\n",
        "      if index - i == len(sub_str):\n",
        "        return i\n",
        "  return -1\n",
        "\n",
        "if __name__ == \"__main__\":\n",
        "  print(string_match(\"adbcbdc\", \"bdc\"))"
      ],
      "metadata": {
        "colab": {
          "base_uri": "https://localhost:8080/"
        },
        "id": "yNhbDH52g95U",
        "outputId": "0efbd5f9-8b31-402b-b1da-a5c5245c740d"
      },
      "execution_count": null,
      "outputs": [
        {
          "output_type": "stream",
          "name": "stdout",
          "text": [
            "4\n"
          ]
        }
      ]
    },
    {
      "cell_type": "markdown",
      "source": [
        "## Algoritma Brute Force\n",
        "\n",
        "Penerapan Algoritma Greedy pada TSP (Traveling Salesman/Salesperson Problem)"
      ],
      "metadata": {
        "id": "4kg_bj_1iB78"
      }
    },
    {
      "cell_type": "code",
      "source": [
        "import random\n",
        "from itertools import permutations\n",
        "alltours = permutations\n",
        "\n",
        "def distance_tour(aTour):\n",
        "  return sum(distance_points(aTour[i - 1], aTour[i])\n",
        "      for i in range(len(aTour)))\n",
        "\n",
        "aCity = complex\n",
        "\n",
        "def distance_points(first, second):\n",
        "  return abs(first - second)\n",
        "\n",
        "def generate_cities(number_of_cities):\n",
        "  seed = 111; width = 500; height = 300\n",
        "  random.seed((number_of_cities, seed))\n",
        "  return frozenset(aCity(random.randint(1, width), random.randint(1, height))\n",
        "      for c in range(number_of_cities))"
      ],
      "metadata": {
        "id": "ZXk1HqKSiGlM"
      },
      "execution_count": null,
      "outputs": []
    },
    {
      "cell_type": "code",
      "source": [
        "%matplotlib inline\n",
        "import matplotlib.pyplot as plt\n",
        "\n",
        "def visualize_tour(tour, style = 'bo-'):\n",
        "  if len(tour) > 1000: plt.figure(figsize = (15, 10))\n",
        "  start = tour[0:1]\n",
        "  visualize_segment(tour + start, style)\n",
        "  visualize_segment(start, \"rD\")\n",
        "\n",
        "def visualize_segment (segment, style = 'bo-'):\n",
        "  plt.plot([X(c) for c in segment], [Y(c) for c in segment], style, clip_on = False)\n",
        "  plt.axis(\"Scaled\")\n",
        "  plt.axis(\"Off\")\n",
        "\n",
        "def X(city): \"X axis\"; return city.real\n",
        "\n",
        "def Y(city): \"Y axis\"; return city.imag"
      ],
      "metadata": {
        "id": "szZ_bR2ji75E"
      },
      "execution_count": null,
      "outputs": []
    },
    {
      "cell_type": "code",
      "source": [
        "from time import process_time\n",
        "from collections import Counter\n",
        "\n",
        "def tsp(algorithm, cities):\n",
        "  t0 = process_time()\n",
        "  tour = algorithm(cities)\n",
        "  t1 = process_time()\n",
        "  assert Counter(tour) == Counter(cities)\n",
        "  visualize_tour(tour)\n",
        "  print(\"{}:{} cities => tour length {:.0f}(in {:.3f} sec)\".format(name(algorithm), len(tour), distance_tour(tour), t1-t0))\n",
        "\n",
        "def name(algorithm): return algorithm.__name__.replace('_tsp', '')"
      ],
      "metadata": {
        "id": "b1qxuLckjrm5"
      },
      "execution_count": null,
      "outputs": []
    },
    {
      "cell_type": "code",
      "source": [
        "def brute_force(cities):\n",
        "  \"Generate all possible tours of the cities and choose the shortest tour.\"\n",
        "  return shortest_tour(alltours(cities))\n",
        "\n",
        "def shortest_tour(tours): return min(tours, key = distance_tour)\n",
        "\n",
        "tsp(brute_force, generate_cities(10))"
      ],
      "metadata": {
        "colab": {
          "base_uri": "https://localhost:8080/",
          "height": 419
        },
        "id": "zzgXpzH2kxbk",
        "outputId": "98f42cc7-2644-4613-ab46-2d40c588b0d2"
      },
      "execution_count": null,
      "outputs": [
        {
          "output_type": "stream",
          "name": "stderr",
          "text": [
            "<ipython-input-56-f1da40875138>:16: DeprecationWarning: Seeding based on hashing is deprecated\n",
            "since Python 3.9 and will be removed in a subsequent version. The only \n",
            "supported seed types are: None, int, float, str, bytes, and bytearray.\n",
            "  random.seed((number_of_cities, seed))\n"
          ]
        },
        {
          "output_type": "stream",
          "name": "stdout",
          "text": [
            "brute_force:10 cities => tour length 1224(in 14.416 sec)\n"
          ]
        },
        {
          "output_type": "display_data",
          "data": {
            "text/plain": [
              "<Figure size 640x480 with 1 Axes>"
            ],
            "image/png": "[encoded data removed]"
          },
          "metadata": {}
        }
      ]
    }
  ]
}
