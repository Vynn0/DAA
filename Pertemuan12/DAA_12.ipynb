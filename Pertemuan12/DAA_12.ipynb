{
  "nbformat": 4,
  "nbformat_minor": 0,
  "metadata": {
    "colab": {
      "provenance": [],
      "authorship_tag": "ABX9TyO9oWBaOVNLLziH31ucjKub",
      "include_colab_link": true
    },
    "kernelspec": {
      "name": "python3",
      "display_name": "Python 3"
    },
    "language_info": {
      "name": "python"
    }
  },
  "cells": [
    {
      "cell_type": "markdown",
      "metadata": {
        "id": "view-in-github",
        "colab_type": "text"
      },
      "source": [
        "<a href=\"https://colab.research.google.com/github/Vynn0/DAA/blob/main/DAA_12.ipynb\" target=\"_parent\"><img src=\"https://colab.research.google.com/assets/colab-badge.svg\" alt=\"Open In Colab\"/></a>"
      ]
    },
    {
      "cell_type": "code",
      "execution_count": 3,
      "metadata": {
        "colab": {
          "base_uri": "https://localhost:8080/",
          "height": 516
        },
        "id": "Ej1pXvyEtKaE",
        "outputId": "d3cbe91d-0822-49c1-ae32-bfe685643a42"
      },
      "outputs": [
        {
          "output_type": "display_data",
          "data": {
            "text/plain": [
              "<Figure size 640x480 with 1 Axes>"
            ],
            "image/png": "[encoded data removed]"
          },
          "metadata": {}
        }
      ],
      "source": [
        "import networkx as nx\n",
        "import matplotlib.pyplot as plt\n",
        "vertices = range(1,10)\n",
        "edges = [(7,2), (2,3), (7,4), (4,5), (7,3), (7,5), (1,6), (1,7), (2,8), (2,9)]\n",
        "G = nx.Graph()\n",
        "G.add_nodes_from(vertices)\n",
        "G.add_edges_from(edges)\n",
        "nx.draw(G, with_labels = True, node_color = 'y', node_size = 800)"
      ]
    },
    {
      "cell_type": "code",
      "source": [
        "nx.degree_centrality(G)"
      ],
      "metadata": {
        "colab": {
          "base_uri": "https://localhost:8080/"
        },
        "id": "sHq8uFautoz0",
        "outputId": "efef3130-1b81-4409-c26a-3d6c9abbffc2"
      },
      "execution_count": 5,
      "outputs": [
        {
          "output_type": "execute_result",
          "data": {
            "text/plain": [
              "{1: 0.25,\n",
              " 2: 0.5,\n",
              " 3: 0.25,\n",
              " 4: 0.25,\n",
              " 5: 0.25,\n",
              " 6: 0.125,\n",
              " 7: 0.625,\n",
              " 8: 0.125,\n",
              " 9: 0.125}"
            ]
          },
          "metadata": {},
          "execution_count": 5
        }
      ]
    },
    {
      "cell_type": "code",
      "source": [
        "nx.betweenness_centrality(G)"
      ],
      "metadata": {
        "colab": {
          "base_uri": "https://localhost:8080/"
        },
        "id": "fBf1JVlCtzTA",
        "outputId": "95311969-f845-4a68-9bae-c84e94f84e32"
      },
      "execution_count": 7,
      "outputs": [
        {
          "output_type": "execute_result",
          "data": {
            "text/plain": [
              "{1: 0.25,\n",
              " 2: 0.46428571428571425,\n",
              " 3: 0.0,\n",
              " 4: 0.0,\n",
              " 5: 0.0,\n",
              " 6: 0.0,\n",
              " 7: 0.7142857142857142,\n",
              " 8: 0.0,\n",
              " 9: 0.0}"
            ]
          },
          "metadata": {},
          "execution_count": 7
        }
      ]
    },
    {
      "cell_type": "code",
      "source": [
        "nx.closeness_centrality(G)"
      ],
      "metadata": {
        "colab": {
          "base_uri": "https://localhost:8080/"
        },
        "id": "yIG3Pq_Lt35y",
        "outputId": "cc4b38f5-b49b-495b-9497-5d003a313fdc"
      },
      "execution_count": 8,
      "outputs": [
        {
          "output_type": "execute_result",
          "data": {
            "text/plain": [
              "{1: 0.5,\n",
              " 2: 0.6153846153846154,\n",
              " 3: 0.5333333333333333,\n",
              " 4: 0.47058823529411764,\n",
              " 5: 0.47058823529411764,\n",
              " 6: 0.34782608695652173,\n",
              " 7: 0.7272727272727273,\n",
              " 8: 0.4,\n",
              " 9: 0.4}"
            ]
          },
          "metadata": {},
          "execution_count": 8
        }
      ]
    },
    {
      "cell_type": "code",
      "source": [
        "centrality = nx.eigenvector_centrality(G)\n",
        "sorted((v, '{:0.2f}'.format(c)) for v, c in centrality.items())"
      ],
      "metadata": {
        "colab": {
          "base_uri": "https://localhost:8080/"
        },
        "id": "HCTZjD8Ht6aW",
        "outputId": "445d9a18-caf7-40f6-96c2-5a27796944bd"
      },
      "execution_count": 10,
      "outputs": [
        {
          "output_type": "execute_result",
          "data": {
            "text/plain": [
              "[(1, '0.24'),\n",
              " (2, '0.45'),\n",
              " (3, '0.36'),\n",
              " (4, '0.32'),\n",
              " (5, '0.32'),\n",
              " (6, '0.08'),\n",
              " (7, '0.59'),\n",
              " (8, '0.16'),\n",
              " (9, '0.16')]"
            ]
          },
          "metadata": {},
          "execution_count": 10
        }
      ]
    },
    {
      "cell_type": "code",
      "source": [
        "G_fb = nx.read_edgelist(\"facebook_combined.txt\", create_using = nx.Graph(), nodetype = int)"
      ],
      "metadata": {
        "id": "4WdA3VQ-upOg"
      },
      "execution_count": null,
      "outputs": []
    },
    {
      "cell_type": "code",
      "source": [
        "pos = nx.spring_layout(G_fb)\n",
        "betCent = nx.betweenness_centrality(G_fb, normalized = True, endpoints = True)\n",
        "node_color = [20000.0 * G_fb.degree(v) for v in G_fb]\n",
        "node_size = [v * 1000 for v in betCetn.values()]\n",
        "plt.figure(figsize = (20, 20))\n",
        "nx.draw_networkx(G_fb, pos = pos, with_labels = False,\n",
        "                 node_color = node_color,\n",
        "                 node_size = node_size )\n",
        "\n",
        "plt.axis('off')"
      ],
      "metadata": {
        "id": "aKcOLmBiuNDi"
      },
      "execution_count": null,
      "outputs": []
    }
  ]
}
