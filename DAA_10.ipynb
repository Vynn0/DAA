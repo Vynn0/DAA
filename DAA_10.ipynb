{
  "nbformat": 4,
  "nbformat_minor": 0,
  "metadata": {
    "colab": {
      "provenance": [],
      "authorship_tag": "ABX9TyNnw9Ghe3brh2urF9Qv9RX6",
      "include_colab_link": true
    },
    "kernelspec": {
      "name": "python3",
      "display_name": "Python 3"
    },
    "language_info": {
      "name": "python"
    }
  },
  "cells": [
    {
      "cell_type": "markdown",
      "metadata": {
        "id": "view-in-github",
        "colab_type": "text"
      },
      "source": [
        "<a href=\"https://colab.research.google.com/github/Vynn0/DAA/blob/main/DAA_10.ipynb\" target=\"_parent\"><img src=\"https://colab.research.google.com/assets/colab-badge.svg\" alt=\"Open In Colab\"/></a>"
      ]
    },
    {
      "cell_type": "markdown",
      "source": [
        "# Linear Programming"
      ],
      "metadata": {
        "id": "XBoCLAXFmoUZ"
      }
    },
    {
      "cell_type": "code",
      "execution_count": null,
      "metadata": {
        "colab": {
          "base_uri": "https://localhost:8080/"
        },
        "id": "MGEpSj5-kcKU",
        "outputId": "ca2656d6-da32-4089-edc0-a0631a03f5c6"
      },
      "outputs": [
        {
          "output_type": "stream",
          "name": "stdout",
          "text": [
            "Collecting pulp\n",
            "  Downloading PuLP-2.7.0-py3-none-any.whl (14.3 MB)\n",
            "\u001b[2K     \u001b[90m━━━━━━━━━━━━━━━━━━━━━━━━━━━━━━━━━━━━━━━━\u001b[0m \u001b[32m14.3/14.3 MB\u001b[0m \u001b[31m77.0 MB/s\u001b[0m eta \u001b[36m0:00:00\u001b[0m\n",
            "\u001b[?25hInstalling collected packages: pulp\n",
            "Successfully installed pulp-2.7.0\n"
          ]
        }
      ],
      "source": [
        "pip install pulp"
      ]
    },
    {
      "cell_type": "code",
      "source": [
        "import pulp\n",
        "\n",
        "# Instantiate our problem class\n",
        "\n",
        "model = pulp.LpProblem(\"ProfitMaximizingProblem\", pulp.LpMaximize)"
      ],
      "metadata": {
        "id": "MmfwzqIXlbeY"
      },
      "execution_count": null,
      "outputs": []
    },
    {
      "cell_type": "code",
      "source": [
        "A = pulp.LpVariable('A', lowBound = 0, cat=\"Integer\")\n",
        "B = pulp.LpVariable('B', lowBound = 0, cat=\"Integer\")"
      ],
      "metadata": {
        "id": "umnUL-Nuli2Y"
      },
      "execution_count": null,
      "outputs": []
    },
    {
      "cell_type": "code",
      "source": [
        "# Objective function\n",
        "model += 4200 * A + 2800 * B, \"Profit\"\n",
        "\n",
        "# Constraints\n",
        "\n",
        "model += 3 * A + 2 * B <= 20\n",
        "model += 4 * A + 3 * B <= 30\n",
        "model += 4 * A + 3 * B <= 44\n",
        "\n",
        "model.solve()\n",
        "pulp.LpStatus[model.status]"
      ],
      "metadata": {
        "colab": {
          "base_uri": "https://localhost:8080/",
          "height": 36
        },
        "id": "Nde95PESl0Dm",
        "outputId": "0a917fea-91a4-48ca-a73c-5e21bf37f137"
      },
      "execution_count": null,
      "outputs": [
        {
          "output_type": "execute_result",
          "data": {
            "text/plain": [
              "'Optimal'"
            ],
            "application/vnd.google.colaboratory.intrinsic+json": {
              "type": "string"
            }
          },
          "metadata": {},
          "execution_count": 14
        }
      ]
    },
    {
      "cell_type": "code",
      "source": [
        "# Print our decision variable values\n",
        "print(A.varValue)\n",
        "print(B.varValue)\n",
        "\n",
        "print(pulp.value(model.objective))"
      ],
      "metadata": {
        "colab": {
          "base_uri": "https://localhost:8080/"
        },
        "id": "8Mlci-dtrUKY",
        "outputId": "df806039-f13b-4e89-f412-fa33283faa6d"
      },
      "execution_count": null,
      "outputs": [
        {
          "output_type": "stream",
          "name": "stdout",
          "text": [
            "6.0\n",
            "1.0\n",
            "28000.0\n"
          ]
        }
      ]
    },
    {
      "cell_type": "code",
      "source": [
        "import pulp\n",
        "\n",
        "model1 = pulp.LpProblem(\"Pemecahan_Persamaan\", pulp.LpMinimize)\n",
        "\n",
        "X = pulp.LpVariable('X', lowBound = 0)\n",
        "Y = pulp.LpVariable('Y', lowBound = 0)\n",
        "\n",
        "# Constraints\n",
        "\n",
        "model1 += 4 * X + 3 * Y == 34\n",
        "model1 += 5 * X + 1 * Y == 37\n",
        "\n",
        "model1.solve()\n",
        "pulp.LpStatus[model1.status]\n",
        "\n",
        "# Print our decision variable values\n",
        "print(\"Nilai x =\", X.varValue)\n",
        "print(\"Nilai y =\", Y.varValue)"
      ],
      "metadata": {
        "colab": {
          "base_uri": "https://localhost:8080/"
        },
        "id": "ifrqiedaxCrc",
        "outputId": "86c3d19a-3e40-4f77-f63c-b7b12e758193"
      },
      "execution_count": null,
      "outputs": [
        {
          "output_type": "stream",
          "name": "stdout",
          "text": [
            "Nilai x = 7.0\n",
            "Nilai y = 2.0\n"
          ]
        }
      ]
    },
    {
      "cell_type": "code",
      "source": [
        "import pulp\n",
        "\n",
        "model2 = pulp.LpProblem(\"Soal_Cerita_1\", pulp.LpMinimize)\n",
        "\n",
        "P = pulp.LpVariable('P', lowBound = 0)\n",
        "B = pulp.LpVariable('B', lowBound = 0)\n",
        "\n",
        "# Constraints\n",
        "\n",
        "model2 += 3*P + 4*B == 11000\n",
        "model2 += 1*P + 7*B == 15000\n",
        "\n",
        "model2.solve()\n",
        "pulp.LpStatus[model2.status]\n",
        "\n",
        "# Print our decision variable values\n",
        "print(\"Nilai p =\", P.varValue)\n",
        "print(\"Nilai b =\", B.varValue)\n",
        "print(\"Nilai 2p + 6b =\", (2 * P.varValue + 6 * B.varValue))"
      ],
      "metadata": {
        "colab": {
          "base_uri": "https://localhost:8080/"
        },
        "id": "1BNk_IpJ0fBQ",
        "outputId": "a3180f6b-cc2f-401d-b6c8-b14b4c0af529"
      },
      "execution_count": null,
      "outputs": [
        {
          "output_type": "stream",
          "name": "stdout",
          "text": [
            "Nilai p = 1000.0\n",
            "Nilai b = 2000.0\n",
            "Nilai 2p + 6b = 14000.0\n"
          ]
        }
      ]
    },
    {
      "cell_type": "code",
      "source": [
        "model3 = pulp.LpProblem(\"Soal_Cerita_2\", pulp.LpMinimize)\n",
        "\n",
        "pa = pulp.LpVariable('pa', lowBound = 0) # Panjang\n",
        "le = pulp.LpVariable('le', lowBound = 0) # Lebar\n",
        "kel = pulp.LpVariable('kel', lowBound = 0) # Keliling\n",
        "\n",
        "model3 += kel == 44\n",
        "model3 += kel == 2*pa + 2*le\n",
        "model3 += pa == le + 6\n",
        "\n",
        "model3.solve()\n",
        "pulp.LpStatus[model3.status]\n",
        "\n",
        "print(pa.varValue)\n",
        "print(le.varValue)"
      ],
      "metadata": {
        "colab": {
          "base_uri": "https://localhost:8080/"
        },
        "id": "Z3CNwkL-44Xe",
        "outputId": "94e45eb4-12af-438d-8dac-5869bc700a87"
      },
      "execution_count": null,
      "outputs": [
        {
          "output_type": "stream",
          "name": "stdout",
          "text": [
            "14.0\n",
            "8.0\n"
          ]
        }
      ]
    },
    {
      "cell_type": "code",
      "source": [
        "# Import required libraries\n",
        "import numpy as np\n",
        "from scipy.optimize import linprog\n",
        "\n",
        "# Set the inequality constraints matrix\n",
        "# Note: the inequality constraints must be in the form of <=\n",
        "\n",
        "A = np.array([[1, 0], [2, 3], [1, 1], [-1, 0], [0, -1]])\n",
        "\n",
        "# Set the inequality constraints vector\n",
        "b = np.array([16, 19, 8, 0, 0])\n",
        "\n",
        "# Set the coefficients of the linear objective function vector\n",
        "# Note: When maximizing, change the signs of the c vector coefficient\n",
        "c = np.array([-5, -7])\n",
        "\n",
        "# Solve linea rprogramming problem\n",
        "res = linprog(c, A_ub = A, b_ub = b)\n",
        "\n",
        "# Print results\n",
        "print('Optimal value:', round(res.fun*-1, ndigits = 2),\n",
        "      '\\nx values:', res.x,\n",
        "      '\\nNumber of iterations performed:', res.nit,\n",
        "      '\\nStatus', res.message)"
      ],
      "metadata": {
        "colab": {
          "base_uri": "https://localhost:8080/"
        },
        "id": "zNjGljiI7afu",
        "outputId": "791fab89-c929-4599-f80e-87b42cccfd9f"
      },
      "execution_count": null,
      "outputs": [
        {
          "output_type": "stream",
          "name": "stdout",
          "text": [
            "Optimal value: 46.0 \n",
            "x values: [5. 3.] \n",
            "Number of iterations performed: 3 \n",
            "Status Optimization terminated successfully. (HiGHS Status 7: Optimal)\n"
          ]
        }
      ]
    },
    {
      "cell_type": "code",
      "source": [
        "# 1.Impor modul yang diperlukan dari SciPy:\n",
        "\n",
        "from scipy.optimize import linprog\n",
        "\n",
        "# 2. Tentukan koefisien fungsi tujuan dan matriks batasan:\n",
        "\n",
        "# Koefisien fungsi tujuan (Z = 5x1 + 7x2)\n",
        "c = [-5, -7] # Karena kita ingin \"maksimalkan\" -5x1 - 7x2, maka perlu diubah menjadi \"-5\" dan \"-7\"\n",
        "\n",
        "# Koefisien matriks batasan\n",
        "A = [\n",
        "    [1, 0], #1x1 + 0x2 <= 16\n",
        "    [2, 3], #2x1 + 3x2 <= 19\n",
        "    [1, 1], #1x1 + 1x2 <= 8\n",
        "]\n",
        "\n",
        "# Batasan kanan (rhs) dari masing-masing batasan\n",
        "b = [16, 19, 8]\n",
        "\n",
        "# 3. Tentukan batasan variabel x1 dan x2 sebagai variabel non-negatif:\n",
        "\n",
        "x1_bounds = (0, None) # x1 >= 0\n",
        "x2_bounds = (0, None) # x2 >= 0\n",
        "\n",
        "# 4. GUnakan linprog untuk menyelesaikan masalah pemrograman linear:\n",
        "\n",
        "result = linprog(c, A_ub=A, b_ub=b, bounds = [x1_bounds, x2_bounds], method=\"highs\")\n",
        "\n",
        "# 5. Tampilkan hasilnyaL\n",
        "\n",
        "# Hasil optimisasi\n",
        "print(\"Optimal Solution:\")\n",
        "print(\"x1 =\", result.x[0])\n",
        "print(\"x2 =\", result.x[1])\n",
        "print(\"Max Z =\", -result.fun) # Karena tujuannya adalah memaksimalkan -z"
      ],
      "metadata": {
        "colab": {
          "base_uri": "https://localhost:8080/"
        },
        "id": "DoIsUDz98XIW",
        "outputId": "49d972a1-61e0-490a-bf35-9f823856772c"
      },
      "execution_count": null,
      "outputs": [
        {
          "output_type": "stream",
          "name": "stdout",
          "text": [
            "Optimal Solution:\n",
            "x1 = 5.0\n",
            "x2 = 3.0\n",
            "Max Z = 46.0\n"
          ]
        }
      ]
    },
    {
      "cell_type": "code",
      "source": [
        "# Import required libraries\n",
        "import numpy as np\n",
        "from scipy.optimize import linprog\n",
        "\n",
        "# Set the inequality constraints matrix\n",
        "# Note: the inequality constraints must be in the form of <=\n",
        "\n",
        "A = np.array([[4, 12], [2,1]])\n",
        "\n",
        "# Set the inequality constraints vector\n",
        "b = np.array([28, 21])\n",
        "\n",
        "# Set the coefficients of the linear objective function vector\n",
        "# Note: When maximizing, change the signs of the c vector coefficient\n",
        "c = np.array([-1, -1])\n",
        "\n",
        "# Solve linea rprogramming problem\n",
        "res = linprog(c, A_ub = A, b_ub = b)\n",
        "\n",
        "# Print results\n",
        "print('Optimal value:', round(res.fun*-1, ndigits = 2),\n",
        "      '\\nx values:', res.x,\n",
        "      '\\nNumber of iterations performed:', res.nit,\n",
        "      '\\nStatus', res.message)"
      ],
      "metadata": {
        "colab": {
          "base_uri": "https://localhost:8080/"
        },
        "id": "R7tb1asI_v-O",
        "outputId": "7e29813b-9c3a-49e2-9cc1-79adbf29f93d"
      },
      "execution_count": null,
      "outputs": [
        {
          "output_type": "stream",
          "name": "stdout",
          "text": [
            "Optimal value: 7.0 \n",
            "x values: [7. 0.] \n",
            "Number of iterations performed: 0 \n",
            "Status Optimization terminated successfully. (HiGHS Status 7: Optimal)\n"
          ]
        }
      ]
    },
    {
      "cell_type": "code",
      "source": [
        "# Import required libraries\n",
        "import numpy as np\n",
        "from scipy.optimize import linprog\n",
        "\n",
        "# Set the inequality constraints matrix\n",
        "# Note: the inequality constraints must be in the form of <=\n",
        "\n",
        "A = np.array([[4, 12], [2,1]])\n",
        "\n",
        "# Set the inequality constraints vector\n",
        "b = np.array([28, 21])\n",
        "\n",
        "# Set the coefficients of the linear objective function vector\n",
        "# Note: When maximizing, change the signs of the c vector coefficient\n",
        "c = np.array([-1, -1])\n",
        "\n",
        "# Solve linea rprogramming problem\n",
        "res = linprog(c, A_ub = A, b_ub = b)\n",
        "\n",
        "# Print results\n",
        "print('Optimal value:', round(res.fun*-1, ndigits = 2),\n",
        "      '\\nx values:', res.x,\n",
        "      '\\nNumber of iterations performed:', res.nit,\n",
        "      '\\nStatus', res.message)"
      ],
      "metadata": {
        "colab": {
          "base_uri": "https://localhost:8080/"
        },
        "id": "KCHHQoMpFJ0a",
        "outputId": "ac9d0f86-22e8-4462-e025-97116f556713"
      },
      "execution_count": null,
      "outputs": [
        {
          "output_type": "stream",
          "name": "stdout",
          "text": [
            "Optimal value: 7.0 \n",
            "x values: [7. 0.] \n",
            "Number of iterations performed: 0 \n",
            "Status Optimization terminated successfully. (HiGHS Status 7: Optimal)\n"
          ]
        }
      ]
    },
    {
      "cell_type": "code",
      "source": [
        "modelx = pulp.LpProblem(\"Soal_Cerita_1_2\", pulp.LpMinimize)\n",
        "\n",
        "x = pulp.LpVariable(\"x\", lowBound = 0)\n",
        "y = pulp.LpVariable(\"y\", lowBound = 0)\n",
        "\n",
        "modelx += 4*x + 12*y == 28\n",
        "modelx += 2*x + 1*y == 21\n",
        "\n",
        "modelx.solve()\n",
        "pulp.LpStatus[modelx.status]\n",
        "\n",
        "print(x.varValue)\n",
        "print(y.varValue)"
      ],
      "metadata": {
        "colab": {
          "base_uri": "https://localhost:8080/"
        },
        "id": "OkxPKAljHWvq",
        "outputId": "a77023f5-d7b8-484c-c899-1c0d943c59b2"
      },
      "execution_count": null,
      "outputs": [
        {
          "output_type": "stream",
          "name": "stdout",
          "text": [
            "10.5\n",
            "0.0\n"
          ]
        }
      ]
    },
    {
      "cell_type": "code",
      "source": [
        "model4 = pulp.LpProblem(\"Soal_Cerita_3\", pulp.LpMinimize)\n",
        "\n",
        "lisa = pulp.LpVariable('lisa', lowBound = 0)\n",
        "muri = pulp.LpVariable('muri', lowBound = 0)\n",
        "\n",
        "model4 += 3*lisa + 4*muri == 55\n",
        "model4 += lisa + muri == 16\n",
        "\n",
        "model4.solve()\n",
        "pulp.LpStatus[model4.status]\n",
        "\n",
        "print(lisa.varValue)\n",
        "print(muri.varValue)"
      ],
      "metadata": {
        "colab": {
          "base_uri": "https://localhost:8080/"
        },
        "id": "axRUBMkJGSbR",
        "outputId": "230711cf-db7c-4f0e-ce5a-704ae53985bc"
      },
      "execution_count": null,
      "outputs": [
        {
          "output_type": "stream",
          "name": "stdout",
          "text": [
            "9.0\n",
            "7.0\n"
          ]
        }
      ]
    }
  ]
}