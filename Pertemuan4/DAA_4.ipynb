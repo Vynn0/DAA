{
  "nbformat": 4,
  "nbformat_minor": 0,
  "metadata": {
    "colab": {
      "provenance": [],
      "authorship_tag": "ABX9TyM+Cs/EpFIrr3M3cibYrKZu",
      "include_colab_link": true
    },
    "kernelspec": {
      "name": "python3",
      "display_name": "Python 3"
    },
    "language_info": {
      "name": "python"
    }
  },
  "cells": [
    {
      "cell_type": "markdown",
      "metadata": {
        "id": "view-in-github",
        "colab_type": "text"
      },
      "source": [
        "<a href=\"https://colab.research.google.com/github/Vynn0/DAA/blob/main/DAA_4.ipynb\" target=\"_parent\"><img src=\"https://colab.research.google.com/assets/colab-badge.svg\" alt=\"Open In Colab\"/></a>"
      ]
    },
    {
      "cell_type": "markdown",
      "source": [
        "## Swap"
      ],
      "metadata": {
        "id": "bb4CaPIsKcrh"
      }
    },
    {
      "cell_type": "code",
      "execution_count": 1,
      "metadata": {
        "colab": {
          "base_uri": "https://localhost:8080/"
        },
        "id": "0rZ4JQpkKHte",
        "outputId": "694cbfce-fa67-4023-d2ac-68e4bce7d15f"
      },
      "outputs": [
        {
          "output_type": "stream",
          "name": "stdout",
          "text": [
            "3 2 1\n"
          ]
        }
      ],
      "source": [
        "var1 = 1\n",
        "var2 = 2\n",
        "var3 = 3\n",
        "var1, var2, var3 = var3, var2, var1\n",
        "\n",
        "print(var1, var2, var3)"
      ]
    },
    {
      "cell_type": "markdown",
      "source": [
        "## Bubble Sort"
      ],
      "metadata": {
        "id": "ADvLM30vKux4"
      }
    },
    {
      "cell_type": "code",
      "source": [
        "list = [56, 9, 4, 7, 3, 10]\n",
        "\n",
        "listLength = len(list)-1 #Untuk mencari length dari list\n",
        "print(0, list)\n",
        "for idx in range(listLength): #listLength digunakan sebagai parameter\n",
        "  if list[idx]>list[idx+1]: #ketika list yang pertama masih lebih besar, maka...\n",
        "    list[idx], list[idx+1] = list[idx+1], list[idx] #tukas posisinya\n",
        "  print(idx+1, list) # lalu print"
      ],
      "metadata": {
        "colab": {
          "base_uri": "https://localhost:8080/"
        },
        "id": "Qh8lPnLLKwGI",
        "outputId": "c1ec2a5a-b033-4db0-b20b-59ab511f1881"
      },
      "execution_count": 5,
      "outputs": [
        {
          "output_type": "stream",
          "name": "stdout",
          "text": [
            "0 [56, 9, 4, 7, 3, 10]\n",
            "1 [9, 56, 4, 7, 3, 10]\n",
            "2 [9, 4, 56, 7, 3, 10]\n",
            "3 [9, 4, 7, 56, 3, 10]\n",
            "4 [9, 4, 7, 3, 56, 10]\n",
            "5 [9, 4, 7, 3, 10, 56]\n"
          ]
        }
      ]
    },
    {
      "cell_type": "code",
      "source": [
        "def BubbleSort(list):\n",
        "  listLength = len(list)-1 #Untuk mencari length dari list\n",
        "  for passVal in range(listLength, 0, -1): #Foor loop untuk mengukur nilai pass\n",
        "    for idx in range(passVal): #For loop untuk pergantian\n",
        "      if list[idx]>list[idx+1]: #ketika list yang pertama masih lebih besar, maka...\n",
        "        list[idx], list[idx+1] = list[idx+1], list[idx] #tukas posisinya\n",
        "  return list\n"
      ],
      "metadata": {
        "id": "1JP9i-zNMA2Y"
      },
      "execution_count": null,
      "outputs": []
    },
    {
      "cell_type": "code",
      "source": [
        "list = [100, 20, 60, 90, 40, 30, 10]\n",
        "\n",
        "listLength = len(list)-1\n",
        "print(0, list)\n",
        "for idx in range (listLength):\n",
        "  if list[idx]>list[idx+1]:\n",
        "    list[idx], list[idx+1] = list[idx+1], list[idx]\n",
        "  print(idx+1, list)"
      ],
      "metadata": {
        "colab": {
          "base_uri": "https://localhost:8080/"
        },
        "id": "09x2GFf0MpHw",
        "outputId": "40ebfd9a-613d-4f8d-f1a7-2aea99b454fa"
      },
      "execution_count": 10,
      "outputs": [
        {
          "output_type": "stream",
          "name": "stdout",
          "text": [
            "0 [100, 20, 60, 90, 40, 30, 10]\n",
            "1 [20, 100, 60, 90, 40, 30, 10]\n",
            "2 [20, 60, 100, 90, 40, 30, 10]\n",
            "3 [20, 60, 90, 100, 40, 30, 10]\n",
            "4 [20, 60, 90, 40, 100, 30, 10]\n",
            "5 [20, 60, 90, 40, 30, 100, 10]\n",
            "6 [20, 60, 90, 40, 30, 10, 100]\n"
          ]
        }
      ]
    },
    {
      "cell_type": "markdown",
      "source": [
        "## Insertion Sort"
      ],
      "metadata": {
        "id": "YKSjF6_jNZBX"
      }
    },
    {
      "cell_type": "code",
      "source": [
        "def InsertionSort(list):\n",
        "  print(f\"First value: {list}\")\n",
        "  for i in range(1, len(list)): # Pass loop\n",
        "    j = i-1 # Deklarasi variable j untuk komparasi nilai paling awal\n",
        "    nextVal = list[i] # Menyimpan nilai list urutan sesudah j\n",
        "\n",
        "    while (list[j] > nextVal) and (j >= 0): # Ketika list j, atau yang paling awal lebih besar dari nextVal\n",
        "      list[j+1] = list[j] # Maka ditukar\n",
        "      j=j-1 # Untuk reset ulang nilai j ke awal yang beracu pada j = i-1\n",
        "    list[j+1] = nextVal  # Mengacu pada awal agar nilai j mengikuti acuan i\n",
        "    print(i, list)\n",
        "  return list\n",
        "\n",
        "list = [35, 31, 32, 34, 33, 37, 36]\n",
        "\n",
        "InsertionSort(list)\n",
        "print(f\"Final value: {list}\")"
      ],
      "metadata": {
        "id": "4eZhCf6ANadv"
      },
      "execution_count": null,
      "outputs": []
    },
    {
      "cell_type": "code",
      "source": [
        "def InsertionSort(list):\n",
        "  print(f\"First value: {list}\")\n",
        "  for i in range(1, len(list)): # Pass loop\n",
        "    j = i-1 # Deklarasi variable j untuk komparasi nilai paling awal\n",
        "    nextVal = list[i] # Menyimpan nilai list urutan sesudah j\n",
        "\n",
        "    while (list[j] > nextVal) and (j >= 0): # Ketika list j, atau yang paling awal lebih besar dari nextVal\n",
        "      list[j+1] = list[j] # Maka ditukar\n",
        "      j=j-1 # Untuk reset ulang nilai j ke awal yang beracu pada j = i-1\n",
        "    list[j+1] = nextVal  # Mengacu pada awal agar nilai j mengikuti acuan i\n",
        "    print(i, list)\n",
        "  return list\n",
        "\n",
        "list = [89, 12, 57, 16, 25, 11, 75]\n",
        "\n",
        "InsertionSort(list)\n",
        "print(f\"Final value: {list}\")"
      ],
      "metadata": {
        "id": "UCRFm6xFToG-"
      },
      "execution_count": null,
      "outputs": []
    },
    {
      "cell_type": "markdown",
      "source": [
        "## Selection Short"
      ],
      "metadata": {
        "id": "BC0FuUA6UKK9"
      }
    },
    {
      "cell_type": "code",
      "source": [
        "def SelectionSort(list):\n",
        "  print(f\"First value: {list}\")\n",
        "  for fill_slot in range(len(list) - 1, 0, -1): # 5 sampai nol dikurang 1\n",
        "    max_index = 0 # List paling pertama\n",
        "    for location in range(1, fill_slot + 1): # Location akan berjalan terus untuk melakukan pendeteksian\n",
        "      if list[location] > list[max_index]: # Jika nilai list location nya ternyata lebib besar dari nilai awal...\n",
        "        max_index = location\n",
        "    list[fill_slot],list[max_index] = list[max_index],list[fill_slot] # Memindahkan nilai paling akhir dengan awal\n",
        "    print(list)\n",
        "  return list\n",
        "\n",
        "list = [70, 15, 25, 19, 34, 44]\n",
        "SelectionSort(list)\n",
        "\n",
        "print(f\"Final value: {list}\")"
      ],
      "metadata": {
        "id": "Ei2s4SDzULom"
      },
      "execution_count": null,
      "outputs": []
    },
    {
      "cell_type": "code",
      "source": [
        "def SelectionSort(list):\n",
        "  print(f\"First value: {list}\")\n",
        "  for fill_slot in range(len(list) - 1, 0, -1): # 5 sampai nol dikurang 1\n",
        "    max_index = 0 # List paling pertama\n",
        "    for location in range(1, fill_slot + 1): # Location akan berjalan terus untuk melakukan pendeteksian\n",
        "      if list[location] > list[max_index]: # Jika nilai list location nya ternyata lebib besar dari nilai awal...\n",
        "        max_index = location\n",
        "    list[fill_slot],list[max_index] = list[max_index],list[fill_slot] # Memindahkan nilai paling akhir dengan awal\n",
        "    print(list)\n",
        "  return list\n",
        "\n",
        "list = [89, 12, 57, 16, 25]\n",
        "SelectionSort(list)\n",
        "\n",
        "print(f\"Final value: {list}\")"
      ],
      "metadata": {
        "id": "KewfLgdgbVtU"
      },
      "execution_count": null,
      "outputs": []
    },
    {
      "cell_type": "markdown",
      "source": [
        "## Linear Search"
      ],
      "metadata": {
        "id": "fIGiD4Zobz8E"
      }
    },
    {
      "cell_type": "code",
      "source": [
        "def LinearSearch(list, item):\n",
        "  index = 0 # Pass\n",
        "  found = False # Pertama, kita blom menemukan nilai\n",
        "\n",
        "  while index < len(list) and found is False:\n",
        "    if list[index] == item: # Jika ketemu sama nilai yg ingin dicari...\n",
        "      found = True\n",
        "    else: # Jika belum...\n",
        "      index = index + 1 # Akan ditambah terus\n",
        "  return found\n",
        "\n",
        "list = [12, 33, 11, 99, 22, 55, 90]\n",
        "\n",
        "print(LinearSearch(list, 55)) # Kita cari, ada gak sih, nilai 12 dalam list?"
      ],
      "metadata": {
        "id": "ROB0LhdPb1LM"
      },
      "execution_count": null,
      "outputs": []
    },
    {
      "cell_type": "code",
      "source": [
        "def LinearSearch(list, item):\n",
        "  index = 0\n",
        "  found = False\n",
        "\n",
        "  while index < len(list) and found is False:\n",
        "    if list[index] == item:\n",
        "      found = True\n",
        "    else:\n",
        "      index = index + 1\n",
        "  return found\n",
        "\n",
        "list = ['y','u', 'i', 'w', 'o', 'a', 'q', 'u', 'j', 'p']\n",
        "\n",
        "print(LinearSearch(list, 'a'))"
      ],
      "metadata": {
        "colab": {
          "base_uri": "https://localhost:8080/"
        },
        "id": "4SPjaFxndQyE",
        "outputId": "22dfbc43-2620-4113-ad34-70243fb4d0dd"
      },
      "execution_count": 47,
      "outputs": [
        {
          "output_type": "stream",
          "name": "stdout",
          "text": [
            "True\n"
          ]
        }
      ]
    },
    {
      "cell_type": "markdown",
      "source": [
        "## Binary Search"
      ],
      "metadata": {
        "id": "wzidbCt6d81k"
      }
    },
    {
      "cell_type": "code",
      "source": [
        "def BinarySearch(list, item):\n",
        "  first = 0\n",
        "  last = len(list) - 1\n",
        "  found = False\n",
        "\n",
        "  while first<=last and not found:\n",
        "    midpoint = (first+last)//2\n",
        "    if list[midpoint] == item:\n",
        "      found = True\n",
        "    else:\n",
        "      if item < list[midpoint]:\n",
        "        last = midpoint-1\n",
        "      else:\n",
        "        first = midpoint+1\n",
        "  return found\n",
        "\n",
        "def BubbleSort(list):\n",
        "  listLength = len(list)-1 #Untuk mencari length dari list\n",
        "  for passVal in range(listLength, 0, -1): #Foor loop untuk mengukur nilai pass\n",
        "    for idx in range(passVal): #For loop untuk pergantian\n",
        "      if list[idx]>list[idx+1]: #ketika list yang pertama masih lebih besar, maka...\n",
        "        list[idx], list[idx+1] = list[idx+1], list[idx] #tukas posisinya\n",
        "  return list\n",
        "\n",
        "list = [12,33,11,99,22,55,90]\n",
        "sorted_list = BubbleSort(list)\n",
        "print(BinarySearch(list,12))\n",
        "print(BinarySearch(list,91))"
      ],
      "metadata": {
        "colab": {
          "base_uri": "https://localhost:8080/"
        },
        "id": "-PirAe0td-yt",
        "outputId": "8917eb47-96e3-4e26-ea64-03bb54fbb19d"
      },
      "execution_count": 49,
      "outputs": [
        {
          "output_type": "stream",
          "name": "stdout",
          "text": [
            "True\n",
            "False\n"
          ]
        }
      ]
    },
    {
      "cell_type": "code",
      "source": [
        "def BinarySearch(list, item):\n",
        "  first = 0\n",
        "  last = len(list) - 1\n",
        "  found = False\n",
        "\n",
        "  while first<=last and not found:\n",
        "    midpoint = (first+last)//2\n",
        "    if list[midpoint] == item:\n",
        "      found = True\n",
        "    else:\n",
        "      if item < list[midpoint]:\n",
        "        last = midpoint-1\n",
        "      else:\n",
        "        first = midpoint+1\n",
        "  return found\n",
        "\n",
        "def BubbleSort(list):\n",
        "  listLength = len(list)-1 #Untuk mencari length dari list\n",
        "  for passVal in range(listLength, 0, -1): #Foor loop untuk mengukur nilai pass\n",
        "    for idx in range(passVal): #For loop untuk pergantian\n",
        "      if list[idx]>list[idx+1]: #ketika list yang pertama masih lebih besar, maka...\n",
        "        list[idx], list[idx+1] = list[idx+1], list[idx] #tukas posisinya\n",
        "  return list\n",
        "\n",
        "list = ['y','u', 'i', 'w', 'o', 'a', 'q', 'u', 'j', 'p']\n",
        "sorted_list = BubbleSort(list)\n",
        "print(BinarySearch(list, 'a'))"
      ],
      "metadata": {
        "colab": {
          "base_uri": "https://localhost:8080/"
        },
        "id": "WnkFYddzenLb",
        "outputId": "85f01ada-5afe-47a7-9934-71bd375ff08c"
      },
      "execution_count": 51,
      "outputs": [
        {
          "output_type": "stream",
          "name": "stdout",
          "text": [
            "True\n"
          ]
        }
      ]
    },
    {
      "cell_type": "markdown",
      "source": [
        "## Interpolation Search"
      ],
      "metadata": {
        "id": "Z8AQ3BJXf0Ok"
      }
    },
    {
      "cell_type": "code",
      "source": [
        "def IntPolsearch(list, x):\n",
        "  idx0 = 0\n",
        "  idxn = (len(list) - 1)\n",
        "  found = False\n",
        "  while idx0 <= idxn and x >= list[idx0] and x <= list[idxn]:\n",
        "    mid = idx0 + int(((float(idxn - idx0)/(list[idxn] - list[idx0])) * (x-list[idx0])))\n",
        "\n",
        "    if list[mid] == x:\n",
        "      found = True\n",
        "      return found\n",
        "\n",
        "    if list[mid] < x:\n",
        "      idx0 = mid + 1\n",
        "  return found\n",
        "\n",
        "def BubbleSort(list):\n",
        "  listLength = len(list)-1 #Untuk mencari length dari list\n",
        "  for passVal in range(listLength, 0, -1): #Foor loop untuk mengukur nilai pass\n",
        "    for idx in range(passVal): #For loop untuk pergantian\n",
        "      if list[idx]>list[idx+1]: #ketika list yang pertama masih lebih besar, maka...\n",
        "        list[idx], list[idx+1] = list[idx+1], list[idx] #tukas posisinya\n",
        "  return list\n",
        "\n",
        "list = [12, 33, 11, 99, 22, 55, 90]\n",
        "sorted_list = BubbleSort(list)\n",
        "\n",
        "print(IntPolsearch(list, 12))\n",
        "print(IntPolsearch(list, 91))"
      ],
      "metadata": {
        "colab": {
          "base_uri": "https://localhost:8080/"
        },
        "id": "j-QeyQhYf1z0",
        "outputId": "fb9d1a33-b4f5-4904-f84e-a3d1b80e91dd"
      },
      "execution_count": 57,
      "outputs": [
        {
          "output_type": "stream",
          "name": "stdout",
          "text": [
            "True\n",
            "False\n"
          ]
        }
      ]
    },
    {
      "cell_type": "code",
      "source": [
        "def IntPolsearch(list, x):\n",
        "  idx0 = 0\n",
        "  idxn = (len(list) - 1)\n",
        "  found = False\n",
        "  while idx0 <= idxn and x >= list[idx0] and x <= list[idxn]:\n",
        "    mid = idx0 + int(((idxn - idx0) / (ord(list[idxn]) - ord(list[idx0]))) * (ord(x) - ord(list[idx0])))\n",
        "\n",
        "    if list[mid] == x:\n",
        "      found = True\n",
        "      return found\n",
        "\n",
        "    if list[mid] < x:\n",
        "      idx0 = mid + 1\n",
        "  return found\n",
        "\n",
        "def BubbleSort(list):\n",
        "  listLength = len(list)-1 #Untuk mencari length dari list\n",
        "  for passVal in range(listLength, 0, -1): #Foor loop untuk mengukur nilai pass\n",
        "    for idx in range(passVal): #For loop untuk pergantian\n",
        "      if list[idx]>list[idx+1]: #ketika list yang pertama masih lebih besar, maka...\n",
        "        list[idx], list[idx+1] = list[idx+1], list[idx] #tukas posisinya\n",
        "  return list\n",
        "\n",
        "list = ['y','u', 'i', 'w', 'o', 'a', 'q', 'u', 'j', 'p']\n",
        "sorted_list = BubbleSort(list)\n",
        "\n",
        "print(IntPolsearch(list, 'u'))"
      ],
      "metadata": {
        "colab": {
          "base_uri": "https://localhost:8080/"
        },
        "id": "lFO_vnXUgfxE",
        "outputId": "b8b552f5-b796-4f69-d4e2-051c95e13283"
      },
      "execution_count": 62,
      "outputs": [
        {
          "output_type": "stream",
          "name": "stdout",
          "text": [
            "True\n"
          ]
        }
      ]
    }
  ]
}
