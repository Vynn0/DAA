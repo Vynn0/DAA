{
  "nbformat": 4,
  "nbformat_minor": 0,
  "metadata": {
    "colab": {
      "provenance": [],
      "authorship_tag": "ABX9TyMNRg8iPF6x8V010Ke7txzR",
      "include_colab_link": true
    },
    "kernelspec": {
      "name": "python3",
      "display_name": "Python 3"
    },
    "language_info": {
      "name": "python"
    }
  },
  "cells": [
    {
      "cell_type": "markdown",
      "metadata": {
        "id": "view-in-github",
        "colab_type": "text"
      },
      "source": [
        "<a href=\"https://colab.research.google.com/github/Vynn0/DAA/blob/main/DAA_11.ipynb\" target=\"_parent\"><img src=\"https://colab.research.google.com/assets/colab-badge.svg\" alt=\"Open In Colab\"/></a>"
      ]
    },
    {
      "cell_type": "markdown",
      "source": [
        "## Graph"
      ],
      "metadata": {
        "id": "5jN5ILuKp1ZB"
      }
    },
    {
      "cell_type": "code",
      "execution_count": null,
      "metadata": {
        "id": "ydaNY4KkjHnS"
      },
      "outputs": [],
      "source": [
        "# a---b\n",
        "# /   /\n",
        "# /   /\n",
        "# c---d----e"
      ]
    },
    {
      "cell_type": "code",
      "source": [
        "# Create the disctionary with graph elements\n",
        "graph = {\"a\" : [\"b\",\"c\"],\n",
        "         \"b\" : [\"a\",\"d\"],\n",
        "         \"c\" : [\"a\", \"d\"],\n",
        "         \"d\" : [\"e\"],\n",
        "         \"e\" : [\"d\"]\n",
        "         }\n",
        "\n",
        "# Print the graph -->\n",
        "print(graph)"
      ],
      "metadata": {
        "colab": {
          "base_uri": "https://localhost:8080/"
        },
        "id": "Z3fHAN3Gp26N",
        "outputId": "b895edb0-4951-43bd-fa64-4317ce95b469"
      },
      "execution_count": null,
      "outputs": [
        {
          "output_type": "stream",
          "name": "stdout",
          "text": [
            "{'a': ['b', 'c'], 'b': ['a', 'd'], 'c': ['a', 'd'], 'd': ['e'], 'e': ['d']}\n"
          ]
        }
      ]
    },
    {
      "cell_type": "code",
      "source": [
        "graph2 = {\"T\" : [\"U\", \"W\"],\n",
        "          \"W\" : [\"T\", \"X\", \"Z\"],\n",
        "          \"U\" : [\"T\", \"V\"],\n",
        "          \"V\" : [\"U\", \"X\"],\n",
        "          \"X\" : [\"V\", \"W\", \"S\"],\n",
        "          \"S\" : [\"X\"],\n",
        "          \"Z\" : [\"W\"]\n",
        "          }\n",
        "\n",
        "print(graph2)"
      ],
      "metadata": {
        "colab": {
          "base_uri": "https://localhost:8080/"
        },
        "id": "u4On5t5dqYjh",
        "outputId": "719d94f3-2187-4126-f522-8e4e69151901"
      },
      "execution_count": null,
      "outputs": [
        {
          "output_type": "stream",
          "name": "stdout",
          "text": [
            "{'T': ['U', 'W'], 'W': ['T', 'X', 'Z'], 'U': ['T', 'V'], 'V': ['U', 'X'], 'X': ['V', 'W', 'S'], 'S': ['X'], 'Z': ['W']}\n"
          ]
        }
      ]
    },
    {
      "cell_type": "code",
      "source": [
        "graph3 = {\"r\" : [\"o\", \"l\"],\n",
        "          \"l\" : [\"r\", \"p\"],\n",
        "          \"o\" : [\"r\", \"p\", \"m\"],\n",
        "          \"p\" : [\"l\", \"o\", \"n\"],\n",
        "          \"m\" : [\"o\", \"n\"],\n",
        "          \"n\" : [\"m\", \"p\"]\n",
        "          }\n",
        "\n",
        "print(graph3)"
      ],
      "metadata": {
        "colab": {
          "base_uri": "https://localhost:8080/"
        },
        "id": "eGYnrk4_qfmB",
        "outputId": "e3af6d6b-84c5-4a09-bf47-061eda4f88cb"
      },
      "execution_count": null,
      "outputs": [
        {
          "output_type": "stream",
          "name": "stdout",
          "text": [
            "{'r': ['o', 'l'], 'l': ['r', 'p'], 'o': ['r', 'p', 'm'], 'p': ['l', 'o', 'n'], 'm': ['o', 'n'], 'n': ['m', 'p']}\n"
          ]
        }
      ]
    },
    {
      "cell_type": "code",
      "source": [
        "class Graph:\n",
        "  def __init__(self, gdict=None):\n",
        "    if gdict is None:\n",
        "      gdict = {}\n",
        "    self.gdict = gdict\n",
        "\n",
        "  # Get the keys of the dictionary\n",
        "  def getVertices(self):\n",
        "    return list(self.gdict.keys())\n",
        "\n",
        "# Create dictionary with graph elements\n",
        "graph_elements = {\n",
        "          \"a\" : [\"b\",\"c\"],\n",
        "         \"b\" : [\"a\",\"d\"],\n",
        "         \"c\" : [\"a\", \"d\"],\n",
        "         \"d\" : [\"e\"],\n",
        "         \"e\" : [\"d\"]\n",
        "         }\n",
        "\n",
        "# Create an instance of the Graph class and pass the graph_elements\n",
        "g = Graph(graph_elements)\n",
        "\n",
        "# Print the vertices by calling the getVertices method with paranthese\n",
        "print(g.getVertices())"
      ],
      "metadata": {
        "colab": {
          "base_uri": "https://localhost:8080/"
        },
        "id": "Df3cmm6dx841",
        "outputId": "967f8722-3490-41c6-956f-d7aa109e1bc3"
      },
      "execution_count": null,
      "outputs": [
        {
          "output_type": "stream",
          "name": "stdout",
          "text": [
            "['a', 'b', 'c', 'd', 'e']\n"
          ]
        }
      ]
    },
    {
      "cell_type": "code",
      "source": [
        "class Graph:\n",
        "  def __init__(self, gdict=None):\n",
        "    if gdict is None:\n",
        "      gdict = {}\n",
        "    self.gdict = gdict\n",
        "\n",
        "  # Get the keys of the dictionary\n",
        "  def getVertices(self):\n",
        "    return list(self.gdict.keys())\n",
        "\n",
        "# Create dictionary with graph elements\n",
        "graph_elements_2 = {\n",
        "          \"T\" : [\"U\", \"W\"],\n",
        "          \"W\" : [\"T\", \"X\", \"Z\"],\n",
        "          \"U\" : [\"T\", \"V\"],\n",
        "          \"V\" : [\"U\", \"X\"],\n",
        "          \"X\" : [\"V\", \"W\", \"S\"],\n",
        "          \"S\" : [\"X\"],\n",
        "          \"Z\" : [\"W\"]\n",
        "          }\n",
        "\n",
        "\n",
        "# Create an instance of the Graph class and pass the graph_elements\n",
        "g = Graph(graph_elements_2)\n",
        "\n",
        "# Print the vertices by calling the getVertices method with paranthese\n",
        "print(g.getVertices())"
      ],
      "metadata": {
        "colab": {
          "base_uri": "https://localhost:8080/"
        },
        "id": "7tn-IRUhyclN",
        "outputId": "95cfecb1-b690-447f-e0fb-6d0b77d404c8"
      },
      "execution_count": null,
      "outputs": [
        {
          "output_type": "stream",
          "name": "stdout",
          "text": [
            "['T', 'W', 'U', 'V', 'X', 'S', 'Z']\n"
          ]
        }
      ]
    },
    {
      "cell_type": "code",
      "source": [
        "class Graph:\n",
        "  def __init__(self, gdict=None):\n",
        "    if gdict is None:\n",
        "      gdict = {}\n",
        "    self.gdict = gdict\n",
        "\n",
        "  # Get the keys of the dictionary\n",
        "  def getVertices(self):\n",
        "    return list(self.gdict.keys())\n",
        "\n",
        "# Create dictionary with graph elements\n",
        "graph_elements_3 = {\n",
        "          \"r\" : [\"o\", \"l\"],\n",
        "          \"l\" : [\"r\", \"p\"],\n",
        "          \"o\" : [\"r\", \"p\", \"m\"],\n",
        "          \"p\" : [\"l\", \"o\", \"n\"],\n",
        "          \"m\" : [\"o\", \"n\"],\n",
        "          \"n\" : [\"m\", \"p\"]\n",
        "          }\n",
        "\n",
        "\n",
        "# Create an instance of the Graph class and pass the graph_elements\n",
        "g = Graph(graph_elements_3)\n",
        "\n",
        "# Print the vertices by calling the getVertices method with paranthese\n",
        "print(g.getVertices())"
      ],
      "metadata": {
        "id": "D8PZ7BvYypTv"
      },
      "execution_count": null,
      "outputs": []
    },
    {
      "cell_type": "markdown",
      "source": [
        "### Menampilkan sudut pada graph"
      ],
      "metadata": {
        "id": "GnyYvhDT3y3N"
      }
    },
    {
      "cell_type": "code",
      "source": [
        "class graph:\n",
        "  def __init__(self, gdict=None):\n",
        "    if gdict is None:\n",
        "      gdict = {}\n",
        "    self.gdict = gdict\n",
        "\n",
        "  def edges(self):\n",
        "    return self.findedges()\n",
        "\n",
        "# Find the distinct list of edges\n",
        "  def findedges(self):\n",
        "    edgename = []\n",
        "    for vrtx in self.gdict:\n",
        "      for nxtvrtx in self.gdict[vrtx]:\n",
        "        if {nxtvrtx, vrtx} not in edgename:\n",
        "          edgename.append({vrtx, nxtvrtx})\n",
        "    return edgename\n",
        "\n",
        "# Create the dictionary with graph elements\n",
        "graph_elements = {\n",
        "          \"a\" : [\"b\",\"c\"],\n",
        "         \"b\" : [\"a\",\"d\"],\n",
        "         \"c\" : [\"a\", \"d\"],\n",
        "         \"d\" : [\"e\"],\n",
        "         \"e\" : [\"d\"]\n",
        "         }\n",
        "\n",
        "g = graph(graph_elements)\n",
        "\n",
        "print(g.edges())"
      ],
      "metadata": {
        "colab": {
          "base_uri": "https://localhost:8080/"
        },
        "id": "wfkcHlj51pwV",
        "outputId": "01f4755f-ac59-4204-a1f2-6732a77500a4"
      },
      "execution_count": null,
      "outputs": [
        {
          "output_type": "stream",
          "name": "stdout",
          "text": [
            "[{'a', 'b'}, {'c', 'a'}, {'d', 'b'}, {'d', 'c'}, {'d', 'e'}]\n"
          ]
        }
      ]
    },
    {
      "cell_type": "code",
      "source": [
        "class graph:\n",
        "  def __init__(self, gdict=None):\n",
        "    if gdict is None:\n",
        "      gdict = {}\n",
        "    self.gdict = gdict\n",
        "\n",
        "  def edges(self):\n",
        "    return self.findedges()\n",
        "\n",
        "# Find the distinct list of edges\n",
        "  def findedges(self):\n",
        "    edgename = []\n",
        "    for vrtx in self.gdict:\n",
        "      for nxtvrtx in self.gdict[vrtx]:\n",
        "        if {nxtvrtx, vrtx} not in edgename:\n",
        "          edgename.append({vrtx, nxtvrtx})\n",
        "    return edgename\n",
        "\n",
        "# Create the dictionary with graph elements\n",
        "graph_elements_2 = {\n",
        "          \"T\" : [\"U\", \"W\"],\n",
        "          \"W\" : [\"T\", \"X\", \"Z\"],\n",
        "          \"U\" : [\"T\", \"V\"],\n",
        "          \"V\" : [\"U\", \"X\"],\n",
        "          \"X\" : [\"V\", \"W\", \"S\"],\n",
        "          \"S\" : [\"X\"],\n",
        "          \"Z\" : [\"W\"]\n",
        "          }\n",
        "\n",
        "g = graph(graph_elements_2)\n",
        "\n",
        "print(g.edges())"
      ],
      "metadata": {
        "id": "NDRZE105324F"
      },
      "execution_count": null,
      "outputs": []
    },
    {
      "cell_type": "code",
      "source": [
        "class graph:\n",
        "  def __init__(self, gdict=None):\n",
        "    if gdict is None:\n",
        "      gdict = {}\n",
        "    self.gdict = gdict\n",
        "\n",
        "  def edges(self):\n",
        "    return self.findedges()\n",
        "\n",
        "# Find the distinct list of edges\n",
        "  def findedges(self):\n",
        "    edgename = []\n",
        "    for vrtx in self.gdict:\n",
        "      for nxtvrtx in self.gdict[vrtx]:\n",
        "        if {nxtvrtx, vrtx} not in edgename:\n",
        "          edgename.append({vrtx, nxtvrtx})\n",
        "    return edgename\n",
        "\n",
        "# Create the dictionary with graph elements\n",
        "graph_elements_3 = {\n",
        "          \"r\" : [\"o\", \"l\"],\n",
        "          \"l\" : [\"r\", \"p\"],\n",
        "          \"o\" : [\"r\", \"p\", \"m\"],\n",
        "          \"p\" : [\"l\", \"o\", \"n\"],\n",
        "          \"m\" : [\"o\", \"n\"],\n",
        "          \"n\" : [\"m\", \"p\"]\n",
        "          }\n",
        "\n",
        "g = graph(graph_elements_3)\n",
        "\n",
        "print(g.edges())"
      ],
      "metadata": {
        "id": "WoLoa8eY37hK"
      },
      "execution_count": null,
      "outputs": []
    },
    {
      "cell_type": "markdown",
      "source": [
        "### Menambah Vertex Simpul"
      ],
      "metadata": {
        "id": "CRByCJhR4B5Z"
      }
    },
    {
      "cell_type": "code",
      "source": [
        "class Graph:\n",
        "  def __init__(self, gdict=None):\n",
        "    if gdict is None:\n",
        "      gdict = {}\n",
        "    self.gdict = gdict\n",
        "\n",
        "  # Get the keys of the dictionary\n",
        "  def getVertices(self):\n",
        "    return list(self.gdict.keys())\n",
        "\n",
        "  # Add the vertex as a key\n",
        "  def addVertex(self, vrtx):\n",
        "    if vrtx not in self.gdict:\n",
        "      self.gdict[vrtx] = []\n",
        "\n",
        "# Create dictionary with graph elements\n",
        "graph_elements = {\n",
        "          \"a\" : [\"b\",\"c\"],\n",
        "         \"b\" : [\"a\",\"d\"],\n",
        "         \"c\" : [\"a\", \"d\"],\n",
        "         \"d\" : [\"e\"],\n",
        "         \"e\" : [\"d\"]\n",
        "         }\n",
        "\n",
        "# Create an instance of the Graph class and pass the graph_elements\n",
        "g = Graph(graph_elements)\n",
        "\n",
        "g.addVertex(\"f\")\n",
        "\n",
        "# Print the vertices by calling the getVertices method with paranthese\n",
        "print(g.getVertices())"
      ],
      "metadata": {
        "colab": {
          "base_uri": "https://localhost:8080/"
        },
        "id": "-ZWDikJT4Fvy",
        "outputId": "761256df-4e77-4f78-ef08-551ac7ed73d3"
      },
      "execution_count": null,
      "outputs": [
        {
          "output_type": "stream",
          "name": "stdout",
          "text": [
            "['a', 'b', 'c', 'd', 'e', 'f']\n"
          ]
        }
      ]
    },
    {
      "cell_type": "code",
      "source": [
        "class Graph:\n",
        "  def __init__(self, gdict=None):\n",
        "    if gdict is None:\n",
        "      gdict = {}\n",
        "    self.gdict = gdict\n",
        "\n",
        "  # Get the keys of the dictionary\n",
        "  def getVertices(self):\n",
        "    return list(self.gdict.keys())\n",
        "\n",
        "  # Add the vertex as a key\n",
        "  def addVertex(self, vrtx):\n",
        "    if vrtx not in self.gdict:\n",
        "      self.gdict[vrtx] = []\n",
        "\n",
        "# Create dictionary with graph elements\n",
        "graph_elements_2 = {\n",
        "          \"T\" : [\"U\", \"W\"],\n",
        "          \"W\" : [\"T\", \"X\", \"Z\"],\n",
        "          \"U\" : [\"T\", \"V\"],\n",
        "          \"V\" : [\"U\", \"X\"],\n",
        "          \"X\" : [\"V\", \"W\", \"S\"],\n",
        "          \"S\" : [\"X\"],\n",
        "          \"Z\" : [\"W\"]\n",
        "          }\n",
        "\n",
        "# Create an instance of the Graph class and pass the graph_elements\n",
        "g = Graph(graph_elements_2)\n",
        "\n",
        "g.addVertex(\"f\")\n",
        "\n",
        "# Print the vertices by calling the getVertices method with paranthese\n",
        "print(g.getVertices())"
      ],
      "metadata": {
        "id": "EUmf_jIc4h82"
      },
      "execution_count": null,
      "outputs": []
    },
    {
      "cell_type": "code",
      "source": [
        "class Graph:\n",
        "  def __init__(self, gdict=None):\n",
        "    if gdict is None:\n",
        "      gdict = {}\n",
        "    self.gdict = gdict\n",
        "\n",
        "  # Get the keys of the dictionary\n",
        "  def getVertices(self):\n",
        "    return list(self.gdict.keys())\n",
        "\n",
        "  # Add the vertex as a key\n",
        "  def addVertex(self, vrtx):\n",
        "    if vrtx not in self.gdict:\n",
        "      self.gdict[vrtx] = []\n",
        "\n",
        "# Create dictionary with graph elements\n",
        "graph_elements_3 = {\n",
        "          \"r\" : [\"o\", \"l\"],\n",
        "          \"l\" : [\"r\", \"p\"],\n",
        "          \"o\" : [\"r\", \"p\", \"m\"],\n",
        "          \"p\" : [\"l\", \"o\", \"n\"],\n",
        "          \"m\" : [\"o\", \"n\"],\n",
        "          \"n\" : [\"m\", \"p\"],\n",
        "          \"K\" : [\"l\"],\n",
        "          \"J\" : [\"n\"]\n",
        "          }\n",
        "\n",
        "# Create an instance of the Graph class and pass the graph_elements\n",
        "g = Graph(graph_elements_3)\n",
        "\n",
        "g.addVertex(\"f\")\n",
        "\n",
        "# Print the vertices by calling the getVertices method with paranthese\n",
        "print(g.getVertices())"
      ],
      "metadata": {
        "colab": {
          "base_uri": "https://localhost:8080/"
        },
        "id": "0fDcbL4A4owZ",
        "outputId": "8b74531a-7416-41a4-a079-5cfc7eea3bd2"
      },
      "execution_count": null,
      "outputs": [
        {
          "output_type": "stream",
          "name": "stdout",
          "text": [
            "['r', 'l', 'o', 'p', 'm', 'n', 'K', 'J', 'f']\n"
          ]
        }
      ]
    },
    {
      "cell_type": "markdown",
      "source": [
        "### Menambah Edge / Sudut"
      ],
      "metadata": {
        "id": "Mtvayqt85GoM"
      }
    },
    {
      "cell_type": "code",
      "source": [
        "class graph:\n",
        "  def __init__(self, gdict=None):\n",
        "    if gdict is None:\n",
        "      gdict = {}\n",
        "    self.gdict = gdict\n",
        "\n",
        "  def edges(self):\n",
        "    return self.findedges()\n",
        "\n",
        "# Add the new edge\n",
        "  def AddEdge(self, edge):\n",
        "    edge = set(edge)\n",
        "    (vrtx1, vrtx2) = tuple(edge)\n",
        "    if vrtx1 in self.gdict:\n",
        "      self.gdict[vrtx1].append(vrtx2)\n",
        "    else:\n",
        "      self.gdict[vrtx1] = [vrtx2]\n",
        "\n",
        "# List the edge names\n",
        "  def findedges(self):\n",
        "    edgename = []\n",
        "    for vrtx in self.gdict:\n",
        "      for nxtvrtx in self.gdict[vrtx]:\n",
        "        if {nxtvrtx, vrtx} not in edgename:\n",
        "          edgename.append({vrtx, nxtvrtx})\n",
        "    return edgename"
      ],
      "metadata": {
        "id": "ZarYSZco5Nfd"
      },
      "execution_count": null,
      "outputs": []
    },
    {
      "cell_type": "code",
      "source": [
        "# Create the dictionary with graph elements\n",
        "graph_elements = {\n",
        "          \"a\" : [\"b\",\"c\"],\n",
        "         \"b\" : [\"a\",\"d\"],\n",
        "         \"c\" : [\"a\", \"d\"],\n",
        "         \"d\" : [\"e\"],\n",
        "         \"e\" : [\"d\"],\n",
        "         }\n",
        "g = graph(graph_elements)\n",
        "g.AddEdge({'a', 'e'})\n",
        "g.AddEdge({'a', 'c'})\n",
        "print(g.edges())"
      ],
      "metadata": {
        "colab": {
          "base_uri": "https://localhost:8080/"
        },
        "id": "wowGf1hh7_2T",
        "outputId": "3ac627ae-08bd-4de5-fd19-25c5877cc1f3"
      },
      "execution_count": null,
      "outputs": [
        {
          "output_type": "stream",
          "name": "stdout",
          "text": [
            "[{'a', 'b'}, {'c', 'a'}, {'a', 'e'}, {'d', 'b'}, {'d', 'c'}, {'d', 'e'}]\n"
          ]
        }
      ]
    },
    {
      "cell_type": "code",
      "source": [
        "# Create the dictionary with graph elements\n",
        "graph_elements = {\n",
        "          \"a\" : [\"b\",\"c\"],\n",
        "         \"b\" : [\"a\",\"d\"],\n",
        "         \"c\" : [\"a\", \"d\"],\n",
        "         \"d\" : [\"e\"],\n",
        "         \"e\" : [\"d\"]\n",
        "         }\n",
        "g = graph(graph_elements)\n",
        "g.AddEdge({'a', 'e'})\n",
        "g.AddEdge({'a', 'c'})\n",
        "print(g.edges())"
      ],
      "metadata": {
        "colab": {
          "base_uri": "https://localhost:8080/"
        },
        "id": "ZLvRiDJz52vc",
        "outputId": "38a9c1b6-04c4-45f0-f26a-369a52f4efe1"
      },
      "execution_count": null,
      "outputs": [
        {
          "output_type": "stream",
          "name": "stdout",
          "text": [
            "[{'a', 'b'}, {'c', 'a'}, {'a', 'e'}, {'d', 'b'}, {'d', 'c'}, {'d', 'e'}]\n"
          ]
        }
      ]
    },
    {
      "cell_type": "code",
      "source": [
        "# Create the dictionary with graph elements\n",
        "graph_elements_2 = {\n",
        "          \"T\" : [\"U\", \"W\"],\n",
        "          \"W\" : [\"T\", \"X\", \"Z\"],\n",
        "          \"U\" : [\"T\", \"V\"],\n",
        "          \"V\" : [\"U\", \"X\"],\n",
        "          \"X\" : [\"V\", \"W\", \"S\"],\n",
        "          \"S\" : [\"X\"],\n",
        "          \"Z\" : [\"W\"]\n",
        "          }\n",
        "\n",
        "g = graph(graph_elements_2)\n",
        "g.AddEdge({'T', 'Z'})\n",
        "g.AddEdge({'V', 'S'})\n",
        "print(g.edges())"
      ],
      "metadata": {
        "colab": {
          "base_uri": "https://localhost:8080/"
        },
        "id": "3ngy8NRN6UDq",
        "outputId": "8b6805de-3e94-4878-b2b8-cbe6fd2eab97"
      },
      "execution_count": null,
      "outputs": [
        {
          "output_type": "stream",
          "name": "stdout",
          "text": [
            "[{'T', 'U'}, {'T', 'W'}, {'T', 'Z'}, {'W', 'X'}, {'W', 'Z'}, {'V', 'U'}, {'V', 'X'}, {'V', 'S'}, {'X', 'S'}]\n"
          ]
        }
      ]
    },
    {
      "cell_type": "code",
      "source": [
        "# Create the dictionary with graph elements\n",
        "graph_elements_3 = {\n",
        "          \"r\" : [\"o\", \"l\"],\n",
        "          \"l\" : [\"r\", \"p\"],\n",
        "          \"o\" : [\"r\", \"p\", \"m\"],\n",
        "          \"p\" : [\"l\", \"o\", \"n\"],\n",
        "          \"m\" : [\"o\", \"n\"],\n",
        "          \"n\" : [\"m\", \"p\"],\n",
        "          \"K\" : [\"l\"],\n",
        "          \"J\" : [\"n\"]\n",
        "          }\n",
        "\n",
        "g = graph(graph_elements_3)\n",
        "g.AddEdge({'r', 'K'})\n",
        "g.AddEdge({'m', 'J'})\n",
        "print(g.edges())"
      ],
      "metadata": {
        "colab": {
          "base_uri": "https://localhost:8080/"
        },
        "id": "VXs0SlmV6c3I",
        "outputId": "ea51ed52-c407-4c6e-fd32-ca71595d7e77"
      },
      "execution_count": null,
      "outputs": [
        {
          "output_type": "stream",
          "name": "stdout",
          "text": [
            "[{'r', 'o'}, {'l', 'r'}, {'l', 'p'}, {'p', 'o'}, {'m', 'o'}, {'n', 'p'}, {'m', 'n'}, {'K', 'l'}, {'K', 'r'}, {'J', 'n'}, {'J', 'm'}]\n"
          ]
        }
      ]
    }
  ]
}