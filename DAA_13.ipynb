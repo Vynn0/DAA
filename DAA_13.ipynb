{
  "nbformat": 4,
  "nbformat_minor": 0,
  "metadata": {
    "colab": {
      "provenance": [],
      "authorship_tag": "ABX9TyM9CM6uVuxyUgWRh7AtlopP",
      "include_colab_link": true
    },
    "kernelspec": {
      "name": "python3",
      "display_name": "Python 3"
    },
    "language_info": {
      "name": "python"
    }
  },
  "cells": [
    {
      "cell_type": "markdown",
      "metadata": {
        "id": "view-in-github",
        "colab_type": "text"
      },
      "source": [
        "<a href=\"https://colab.research.google.com/github/Vynn0/DAA/blob/main/DAA_13.ipynb\" target=\"_parent\"><img src=\"https://colab.research.google.com/assets/colab-badge.svg\" alt=\"Open In Colab\"/></a>"
      ]
    },
    {
      "cell_type": "markdown",
      "source": [
        "## BFS (Breadth-First-Search)"
      ],
      "metadata": {
        "id": "XqcKiO8G2ooC"
      }
    },
    {
      "cell_type": "code",
      "execution_count": null,
      "metadata": {
        "id": "uBs-C-mboace"
      },
      "outputs": [],
      "source": [
        "def bfs(graph,start):\n",
        "  visited = []\n",
        "  queue = []\n",
        "  queue = [start]\n",
        "  while queue:\n",
        "    node = queue.pop(0)\n",
        "    if node not in visited:\n",
        "      visited.append(node)\n",
        "      neighbours = graph[node]\n",
        "      for neighbour in neighbours:\n",
        "        queue.append(neighbour)\n",
        "\n",
        "  return visited"
      ]
    },
    {
      "cell_type": "code",
      "source": [
        "graph = {'Amin' : ['Wasim', 'Nick', 'Mike'],\n",
        "         'Wasim': ['Imran', 'Amin'],\n",
        "         'Imran': ['Wasim', 'Faras'],\n",
        "         'Faras': ['Imran'],\n",
        "         'Mike': ['Amin'],\n",
        "         'Nick': ['Amin']\n",
        "         }\n",
        "\n",
        "bfs(graph, 'Faras')"
      ],
      "metadata": {
        "colab": {
          "base_uri": "https://localhost:8080/"
        },
        "id": "ER_b9ZL3r9D7",
        "outputId": "147fd885-d6c1-4cb5-ddf8-853e1dfb331f"
      },
      "execution_count": null,
      "outputs": [
        {
          "output_type": "execute_result",
          "data": {
            "text/plain": [
              "['Faras', 'Imran', 'Wasim', 'Amin', 'Nick', 'Mike']"
            ]
          },
          "metadata": {},
          "execution_count": 12
        }
      ]
    },
    {
      "cell_type": "code",
      "source": [
        "graph2 = {'Rektor' : ['Warek1', 'Warek2'],\n",
        "         'Warek1': ['Rektor'],\n",
        "         'Warek2': ['Rektor', 'Kaprodi1', 'Kaprodi2', 'Kaprodi3'],\n",
        "         'Kaprodi1': ['Warek2', 'DosenA', 'DosenB', 'DosenC'],\n",
        "         'Kaprodi2': ['Warek2', 'DosenD', 'DosenE'],\n",
        "         'Kaprodi3': ['Warek2', 'DosenF', 'DosenG'],\n",
        "         'DosenA': ['Kaprodi1'],\n",
        "         'DosenB': ['Kaprodi1'],\n",
        "         'DosenC': ['Kaprodi1'],\n",
        "         'DosenD': ['Kaprodi2'],\n",
        "         'DosenE': ['Kaprodi2'],\n",
        "         'DosenF': ['Kaprodi3'],\n",
        "         'DosenG': ['Kaprodi3']\n",
        "         }\n",
        "\n",
        "bfs(graph2, 'DosenC')"
      ],
      "metadata": {
        "colab": {
          "base_uri": "https://localhost:8080/"
        },
        "id": "TnKt7_zRxlmh",
        "outputId": "e0aa0fa3-05d6-4452-98ff-9ba6d979b635"
      },
      "execution_count": null,
      "outputs": [
        {
          "output_type": "execute_result",
          "data": {
            "text/plain": [
              "['DosenC',\n",
              " 'Kaprodi1',\n",
              " 'Warek2',\n",
              " 'DosenA',\n",
              " 'DosenB',\n",
              " 'Rektor',\n",
              " 'Kaprodi2',\n",
              " 'Kaprodi3',\n",
              " 'Warek1',\n",
              " 'DosenD',\n",
              " 'DosenE',\n",
              " 'DosenF',\n",
              " 'DosenG']"
            ]
          },
          "metadata": {},
          "execution_count": 30
        }
      ]
    },
    {
      "cell_type": "code",
      "source": [
        "graph3 = {0 : [9, 7, 11],\n",
        "          9 : [0, 8, 10],\n",
        "          7 : [0, 3, 6, 11],\n",
        "          11: [0, 7],\n",
        "          10: [1, 9],\n",
        "          1: [10, 8],\n",
        "          8: [1, 9, 12],\n",
        "          12: [2, 8],\n",
        "          2: [12, 3],\n",
        "          3: [2, 4, 7],\n",
        "          4: [3],\n",
        "          6: [5, 7],\n",
        "          5: [6]\n",
        "         }\n",
        "\n",
        "bfs(graph3, 1)"
      ],
      "metadata": {
        "colab": {
          "base_uri": "https://localhost:8080/"
        },
        "id": "KekaTYBU3wQd",
        "outputId": "36d206c5-69a3-41eb-a8da-16fd99867ba5"
      },
      "execution_count": null,
      "outputs": [
        {
          "output_type": "execute_result",
          "data": {
            "text/plain": [
              "[1, 10, 8, 9, 12, 0, 2, 7, 11, 3, 6, 4, 5]"
            ]
          },
          "metadata": {},
          "execution_count": 34
        }
      ]
    },
    {
      "cell_type": "markdown",
      "source": [
        "## DFS(Depth-First-Search)"
      ],
      "metadata": {
        "id": "FpaGXX842rTb"
      }
    },
    {
      "cell_type": "code",
      "source": [
        "def dfs(visited, graph, node):\n",
        "  if node not in visited:\n",
        "    print(node)\n",
        "    visited.add(node)\n",
        "    for neighbour in graph[node]:\n",
        "      dfs(visited, graph, neighbour)"
      ],
      "metadata": {
        "id": "0dxyz4KIIEO0"
      },
      "execution_count": null,
      "outputs": []
    },
    {
      "cell_type": "code",
      "source": [
        "graph = {'Amin' : ['Wasim', 'Nick', 'Mike'],\n",
        "         'Wasim': ['Imran', 'Amin'],\n",
        "         'Imran': ['Wasim', 'Faras'],\n",
        "         'Faras': ['Imran'],\n",
        "         'Mike': ['Amin'],\n",
        "         'Nick': ['Amin']\n",
        "         }\n",
        "\n",
        "visited = set()\n",
        "dfs(visited, graph, 'Amin')"
      ],
      "metadata": {
        "colab": {
          "base_uri": "https://localhost:8080/"
        },
        "id": "tPMqKNUXIN0G",
        "outputId": "28235479-450e-47d0-88a3-bbc3e3de8f6e"
      },
      "execution_count": null,
      "outputs": [
        {
          "output_type": "stream",
          "name": "stdout",
          "text": [
            "Nick\n",
            "Amin\n",
            "Wasim\n",
            "Imran\n",
            "Faras\n",
            "Mike\n"
          ]
        }
      ]
    },
    {
      "cell_type": "code",
      "source": [
        "graph2 = {'Rektor' : ['Warek1', 'Warek2'],\n",
        "         'Warek1': ['Rektor'],\n",
        "         'Warek2': ['Rektor', 'Kaprodi1', 'Kaprodi2', 'Kaprodi3'],\n",
        "         'Kaprodi1': ['Warek2', 'DosenA', 'DosenB', 'DosenC'],\n",
        "         'Kaprodi2': ['Warek2', 'DosenD', 'DosenE'],\n",
        "         'Kaprodi3': ['Warek2', 'DosenF', 'DosenG'],\n",
        "         'DosenA': ['Kaprodi1'],\n",
        "         'DosenB': ['Kaprodi1'],\n",
        "         'DosenC': ['Kaprodi1'],\n",
        "         'DosenD': ['Kaprodi2'],\n",
        "         'DosenE': ['Kaprodi2'],\n",
        "         'DosenF': ['Kaprodi3'],\n",
        "         'DosenG': ['Kaprodi3']\n",
        "         }\n",
        "\n",
        "visited = set()\n",
        "dfs(visited, graph2, 'Rektor')"
      ],
      "metadata": {
        "colab": {
          "base_uri": "https://localhost:8080/"
        },
        "id": "jaVvOot5IiMm",
        "outputId": "b8b784fc-b756-4fa8-86b0-80ac6c63574a"
      },
      "execution_count": null,
      "outputs": [
        {
          "output_type": "stream",
          "name": "stdout",
          "text": [
            "Rektor\n",
            "Warek1\n",
            "Warek2\n",
            "Kaprodi1\n",
            "DosenA\n",
            "DosenB\n",
            "DosenC\n",
            "Kaprodi2\n",
            "DosenD\n",
            "DosenE\n",
            "Kaprodi3\n",
            "DosenF\n",
            "DosenG\n"
          ]
        }
      ]
    },
    {
      "cell_type": "code",
      "source": [
        "graph3 = {0 : [1, 9],\n",
        "          1 : [8, 0],\n",
        "          9 : [8, 0],\n",
        "          8: [7, 1, 9],\n",
        "          7: [8, 3, 6, 10, 11],\n",
        "          10: [7, 11],\n",
        "          11: [7, 10],\n",
        "          6: [7, 5],\n",
        "          5: [3, 6],\n",
        "          3: [2, 4, 7, 5],\n",
        "          4: [3],\n",
        "          6: [5, 7],\n",
        "          2: [3]\n",
        "         }\n",
        "\n",
        "visited = set()\n",
        "dfs(visited, graph3, 3)"
      ],
      "metadata": {
        "colab": {
          "base_uri": "https://localhost:8080/"
        },
        "id": "VUlEImflI_IH",
        "outputId": "3e70e473-c744-482f-d61d-fea957e9abad"
      },
      "execution_count": null,
      "outputs": [
        {
          "output_type": "stream",
          "name": "stdout",
          "text": [
            "3\n",
            "2\n",
            "4\n",
            "7\n",
            "8\n",
            "1\n",
            "0\n",
            "9\n",
            "6\n",
            "5\n",
            "10\n",
            "11\n"
          ]
        }
      ]
    },
    {
      "cell_type": "markdown",
      "source": [],
      "metadata": {
        "id": "4XBs-AKQMNCQ"
      }
    }
  ]
}